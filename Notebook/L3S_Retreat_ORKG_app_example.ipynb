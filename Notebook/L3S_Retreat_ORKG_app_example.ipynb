{
  "nbformat": 4,
  "nbformat_minor": 0,
  "metadata": {
    "colab": {
      "provenance": []
    },
    "kernelspec": {
      "name": "python3",
      "display_name": "Python 3"
    },
    "language_info": {
      "name": "python"
    }
  },
  "cells": [
    {
      "cell_type": "markdown",
      "source": [
        "# L3S Retreat: ORKG hackathon\n",
        "Example of an application using ORKG"
      ],
      "metadata": {
        "id": "GooC7DQfOgV8"
      }
    },
    {
      "cell_type": "markdown",
      "source": [
        "## Installing orkg"
      ],
      "metadata": {
        "id": "XB4IWbCupOGU"
      }
    },
    {
      "cell_type": "code",
      "source": [
        "!pip install orkg"
      ],
      "metadata": {
        "colab": {
          "base_uri": "https://localhost:8080/"
        },
        "id": "3xnMLZXDpQrA",
        "outputId": "3092d059-b7de-4645-fb57-67a3ce6fedcb"
      },
      "execution_count": 1,
      "outputs": [
        {
          "output_type": "stream",
          "name": "stdout",
          "text": [
            "Collecting orkg\n",
            "  Downloading orkg-0.18.0-py3-none-any.whl (46 kB)\n",
            "\u001b[2K     \u001b[90m━━━━━━━━━━━━━━━━━━━━━━━━━━━━━━━━━━━━━━━━\u001b[0m \u001b[32m46.6/46.6 kB\u001b[0m \u001b[31m1.1 MB/s\u001b[0m eta \u001b[36m0:00:00\u001b[0m\n",
            "\u001b[?25hCollecting Deprecated<2.0.0,>=1.2.14 (from orkg)\n",
            "  Downloading Deprecated-1.2.14-py2.py3-none-any.whl (9.6 kB)\n",
            "Collecting Faker<20.0.0,>=19.1.0 (from orkg)\n",
            "  Downloading Faker-19.8.0-py3-none-any.whl (1.7 MB)\n",
            "\u001b[2K     \u001b[90m━━━━━━━━━━━━━━━━━━━━━━━━━━━━━━━━━━━━━━━━\u001b[0m \u001b[32m1.7/1.7 MB\u001b[0m \u001b[31m26.0 MB/s\u001b[0m eta \u001b[36m0:00:00\u001b[0m\n",
            "\u001b[?25hCollecting Inflector<4.0.0,>=3.1.0 (from orkg)\n",
            "  Downloading Inflector-3.1.0-py3-none-any.whl (12 kB)\n",
            "Collecting cardinality<0.2.0,>=0.1.1 (from orkg)\n",
            "  Downloading cardinality-0.1.1.tar.gz (2.3 kB)\n",
            "  Preparing metadata (setup.py) ... \u001b[?25l\u001b[?25hdone\n",
            "Collecting hammock<0.3.0,>=0.2.4 (from orkg)\n",
            "  Downloading hammock-0.2.4.tar.gz (4.8 kB)\n",
            "  Preparing metadata (setup.py) ... \u001b[?25l\u001b[?25hdone\n",
            "Requirement already satisfied: networkx<4.0,>=3.1 in /usr/local/lib/python3.10/dist-packages (from orkg) (3.1)\n",
            "Collecting pandas<3.0.0,>=2.0.1 (from orkg)\n",
            "  Downloading pandas-2.1.1-cp310-cp310-manylinux_2_17_x86_64.manylinux2014_x86_64.whl (12.3 MB)\n",
            "\u001b[2K     \u001b[90m━━━━━━━━━━━━━━━━━━━━━━━━━━━━━━━━━━━━━━━━\u001b[0m \u001b[32m12.3/12.3 MB\u001b[0m \u001b[31m65.7 MB/s\u001b[0m eta \u001b[36m0:00:00\u001b[0m\n",
            "\u001b[?25hCollecting pydantic<3.0.0,>=2.0.3 (from orkg)\n",
            "  Downloading pydantic-2.4.2-py3-none-any.whl (395 kB)\n",
            "\u001b[2K     \u001b[90m━━━━━━━━━━━━━━━━━━━━━━━━━━━━━━━━━━━━━━\u001b[0m \u001b[32m395.8/395.8 kB\u001b[0m \u001b[31m28.1 MB/s\u001b[0m eta \u001b[36m0:00:00\u001b[0m\n",
            "\u001b[?25hRequirement already satisfied: requests<3.0.0,>=2.31.0 in /usr/local/lib/python3.10/dist-packages (from orkg) (2.31.0)\n",
            "Requirement already satisfied: tqdm<5.0.0,>=4.65.0 in /usr/local/lib/python3.10/dist-packages (from orkg) (4.66.1)\n",
            "Collecting undecorated<0.4.0,>=0.3.0 (from orkg)\n",
            "  Downloading undecorated-0.3.0-py3-none-any.whl (4.8 kB)\n",
            "Requirement already satisfied: wrapt<2,>=1.10 in /usr/local/lib/python3.10/dist-packages (from Deprecated<2.0.0,>=1.2.14->orkg) (1.15.0)\n",
            "Requirement already satisfied: python-dateutil>=2.4 in /usr/local/lib/python3.10/dist-packages (from Faker<20.0.0,>=19.1.0->orkg) (2.8.2)\n",
            "Requirement already satisfied: numpy>=1.22.4 in /usr/local/lib/python3.10/dist-packages (from pandas<3.0.0,>=2.0.1->orkg) (1.23.5)\n",
            "Requirement already satisfied: pytz>=2020.1 in /usr/local/lib/python3.10/dist-packages (from pandas<3.0.0,>=2.0.1->orkg) (2023.3.post1)\n",
            "Collecting tzdata>=2022.1 (from pandas<3.0.0,>=2.0.1->orkg)\n",
            "  Downloading tzdata-2023.3-py2.py3-none-any.whl (341 kB)\n",
            "\u001b[2K     \u001b[90m━━━━━━━━━━━━━━━━━━━━━━━━━━━━━━━━━━━━━━\u001b[0m \u001b[32m341.8/341.8 kB\u001b[0m \u001b[31m30.5 MB/s\u001b[0m eta \u001b[36m0:00:00\u001b[0m\n",
            "\u001b[?25hCollecting annotated-types>=0.4.0 (from pydantic<3.0.0,>=2.0.3->orkg)\n",
            "  Downloading annotated_types-0.6.0-py3-none-any.whl (12 kB)\n",
            "Collecting pydantic-core==2.10.1 (from pydantic<3.0.0,>=2.0.3->orkg)\n",
            "  Downloading pydantic_core-2.10.1-cp310-cp310-manylinux_2_17_x86_64.manylinux2014_x86_64.whl (2.0 MB)\n",
            "\u001b[2K     \u001b[90m━━━━━━━━━━━━━━━━━━━━━━━━━━━━━━━━━━━━━━━━\u001b[0m \u001b[32m2.0/2.0 MB\u001b[0m \u001b[31m85.8 MB/s\u001b[0m eta \u001b[36m0:00:00\u001b[0m\n",
            "\u001b[?25hCollecting typing-extensions>=4.6.1 (from pydantic<3.0.0,>=2.0.3->orkg)\n",
            "  Downloading typing_extensions-4.8.0-py3-none-any.whl (31 kB)\n",
            "Requirement already satisfied: charset-normalizer<4,>=2 in /usr/local/lib/python3.10/dist-packages (from requests<3.0.0,>=2.31.0->orkg) (3.3.0)\n",
            "Requirement already satisfied: idna<4,>=2.5 in /usr/local/lib/python3.10/dist-packages (from requests<3.0.0,>=2.31.0->orkg) (3.4)\n",
            "Requirement already satisfied: urllib3<3,>=1.21.1 in /usr/local/lib/python3.10/dist-packages (from requests<3.0.0,>=2.31.0->orkg) (2.0.6)\n",
            "Requirement already satisfied: certifi>=2017.4.17 in /usr/local/lib/python3.10/dist-packages (from requests<3.0.0,>=2.31.0->orkg) (2023.7.22)\n",
            "Requirement already satisfied: six>=1.5 in /usr/local/lib/python3.10/dist-packages (from python-dateutil>=2.4->Faker<20.0.0,>=19.1.0->orkg) (1.16.0)\n",
            "Building wheels for collected packages: cardinality, hammock\n",
            "  Building wheel for cardinality (setup.py) ... \u001b[?25l\u001b[?25hdone\n",
            "  Created wheel for cardinality: filename=cardinality-0.1.1-py3-none-any.whl size=2587 sha256=bc6b42d869ca47e73cf8cdd017d0cd58f3ab8f5ff079501f57f2ba538cd5f73e\n",
            "  Stored in directory: /root/.cache/pip/wheels/b8/19/d1/2665c004b583a7d1880fa59055a3e462d6e35841a01b57010b\n",
            "  Building wheel for hammock (setup.py) ... \u001b[?25l\u001b[?25hdone\n",
            "  Created wheel for hammock: filename=hammock-0.2.4-py3-none-any.whl size=2406 sha256=bab26d72380c1bafa9fdb0ea743af72665f70b0af6296ed880df2f24b9305ef7\n",
            "  Stored in directory: /root/.cache/pip/wheels/f3/55/5b/e1e1e4366a23623af753c68c926db14ea6e58c0f0386511cfa\n",
            "Successfully built cardinality hammock\n",
            "Installing collected packages: undecorated, Inflector, cardinality, tzdata, typing-extensions, Deprecated, annotated-types, pydantic-core, pandas, hammock, Faker, pydantic, orkg\n",
            "  Attempting uninstall: typing-extensions\n",
            "    Found existing installation: typing_extensions 4.5.0\n",
            "    Uninstalling typing_extensions-4.5.0:\n",
            "      Successfully uninstalled typing_extensions-4.5.0\n",
            "  Attempting uninstall: pandas\n",
            "    Found existing installation: pandas 1.5.3\n",
            "    Uninstalling pandas-1.5.3:\n",
            "      Successfully uninstalled pandas-1.5.3\n",
            "  Attempting uninstall: pydantic\n",
            "    Found existing installation: pydantic 1.10.13\n",
            "    Uninstalling pydantic-1.10.13:\n",
            "      Successfully uninstalled pydantic-1.10.13\n",
            "\u001b[31mERROR: pip's dependency resolver does not currently take into account all the packages that are installed. This behaviour is the source of the following dependency conflicts.\n",
            "google-colab 1.0.0 requires pandas==1.5.3, but you have pandas 2.1.1 which is incompatible.\n",
            "tensorflow 2.13.0 requires typing-extensions<4.6.0,>=3.6.6, but you have typing-extensions 4.8.0 which is incompatible.\u001b[0m\u001b[31m\n",
            "\u001b[0mSuccessfully installed Deprecated-1.2.14 Faker-19.8.0 Inflector-3.1.0 annotated-types-0.6.0 cardinality-0.1.1 hammock-0.2.4 orkg-0.18.0 pandas-2.1.1 pydantic-2.4.2 pydantic-core-2.10.1 typing-extensions-4.8.0 tzdata-2023.3 undecorated-0.3.0\n"
          ]
        }
      ]
    },
    {
      "cell_type": "markdown",
      "source": [
        "## Connecting"
      ],
      "metadata": {
        "id": "HCMVirsWp9qH"
      }
    },
    {
      "cell_type": "code",
      "source": [
        "from orkg import ORKG, Hosts\n",
        "\n",
        "connector = ORKG(host=Hosts.PRODUCTION)"
      ],
      "metadata": {
        "id": "az71Q0wfpvXp"
      },
      "execution_count": 2,
      "outputs": []
    },
    {
      "cell_type": "markdown",
      "source": [
        "## Adding filters"
      ],
      "metadata": {
        "id": "OiTZIujenNX3"
      }
    },
    {
      "cell_type": "code",
      "source": [
        "filters = []\n",
        "while True:\n",
        "\n",
        "  # Inputing a property\n",
        "  prop_label = input('Enter a property label or \"ok\" if you have enough filters: ')\n",
        "  if prop_label == 'ok':\n",
        "    break\n",
        "  response = connector.predicates.get(q = prop_label, exact = False, size = 10)\n",
        "  if response.succeeded and response.content:\n",
        "    [print(prop) for prop in response.content]\n",
        "  else:\n",
        "    print('No properties found, enter a filter again')\n",
        "    continue\n",
        "  prop_id = input('Enter ID of a selected property: ')\n",
        "  response = connector.predicates.by_id(id = prop_id)\n",
        "  if not response.succeeded or not response.content:\n",
        "    print('Wrong ID, enter a filter again')\n",
        "    continue\n",
        "\n",
        "  # Inputing a property value\n",
        "  obj_label = input('Enter a resource label: ')\n",
        "  response = connector.resources.get(q = obj_label, exact = False, size = 10)\n",
        "  if response.succeeded and response.content:\n",
        "    [print(obj) for obj in response.content]\n",
        "  else:\n",
        "    print('No resources found, enter a filter again')\n",
        "    continue\n",
        "  obj_id = input('Enter ID of a selected resource: ')\n",
        "  if not connector.resources.exists(obj_id):\n",
        "    print('Wrong ID, enter a filter again')\n",
        "    continue\n",
        "\n",
        "  filters.append((prop_id, obj_id))\n",
        "\n",
        "print('Added filters: ')\n",
        "for filter in filters:\n",
        "  print(f'property: {filter[0]}, resource: {filter[1]}')"
      ],
      "metadata": {
        "id": "N_q-mvGZLmEJ",
        "colab": {
          "base_uri": "https://localhost:8080/"
        },
        "outputId": "7e8e7d89-94e2-448c-b207-ef01957c3b9e"
      },
      "execution_count": 5,
      "outputs": [
        {
          "output_type": "stream",
          "name": "stdout",
          "text": [
            "Enter a property label or \"ok\" if you have enough filters: research problem\n",
            "{'id': 'P37600', 'label': 'research_problem', 'description': None, '_class': 'predicate', 'created_at': '2021-06-03T11:34:51.398239+02:00', 'created_by': 'c50dbe19-a406-45c9-bec6-47a23216cf0f'}\n",
            "{'id': 'P32', 'label': 'research problem', 'description': 'The research problem which the dataset contributes to.', '_class': 'predicate', 'created_at': '2022-06-30T08:20:43.846797Z', 'created_by': '00000000-0000-0000-0000-000000000000'}\n",
            "{'id': 'P58073', 'label': 'The research problem', 'description': None, '_class': 'predicate', 'created_at': '2022-06-25T14:40:07.34699Z', 'created_by': '10be72a1-19dd-4cd7-87c8-30435e8cf37f'}\n",
            "{'id': 'P59028', 'label': 'has research problem', 'description': 'The research problem addressed by the research paper, research domain, etc.', '_class': 'predicate', 'created_at': '2022-06-30T09:32:14.504272Z', 'created_by': 'fd70ccfd-7cc1-4557-9c96-8b38a05b49e6'}\n",
            "{'id': 'TemplateOfResearchProblem', 'label': 'Template of research problem', 'description': None, '_class': 'predicate', 'created_at': '2020-03-10T13:47:42.791+01:00', 'created_by': '00000000-0000-0000-0000-000000000000'}\n",
            "{'id': 'P65002', 'label': 'Research problem description', 'description': 'Main objective(s) of the paper', '_class': 'predicate', 'created_at': '2022-08-02T09:40:21.183314Z', 'created_by': '503f4b0c-7a16-4dd2-b3b3-4d45f158bcbc'}\n",
            "{'id': 'P118032', 'label': 'research problem description ', 'description': 'description of the research', '_class': 'predicate', 'created_at': '2023-06-24T18:19:03.964242+02:00', 'created_by': '689896bf-ab75-48cf-b2f0-171dc9dc3c66'}\n",
            "{'id': 'P59269', 'label': 'Research ProblemResource Consumption', 'description': None, '_class': 'predicate', 'created_at': '2022-07-13T08:15:50.041825Z', 'created_by': '69a862e3-1efe-4988-81c9-c036497b3f9c'}\n",
            "{'id': 'P41784', 'label': 'research_problem/Line broadening in plasmas/Research_objetive', 'description': None, '_class': 'predicate', 'created_at': '2021-09-30T23:08:44.468176+02:00', 'created_by': '1bfbb658-6a8e-4a3a-86e4-2e24b021ba9b'}\n",
            "{'id': 'P41798', 'label': 'research_problem/Line broadening in plasmas/Research_objetive*', 'description': None, '_class': 'predicate', 'created_at': '2021-09-30T23:35:51.281283+02:00', 'created_by': '1bfbb658-6a8e-4a3a-86e4-2e24b021ba9b'}\n",
            "Enter ID of a selected property: P32\n",
            "Enter a resource label: question answering\n",
            "{'id': 'R2061', 'label': 'Question Answering', 'classes': ['Problem'], 'shared': 6, 'featured': False, 'unlisted': False, 'verified': False, 'extraction_method': 'UNKNOWN', '_class': 'resource', 'created_at': '2019-01-06T15:04:07.692Z', 'created_by': '00000000-0000-0000-0000-000000000000', 'observatory_id': '00000000-0000-0000-0000-000000000000', 'organization_id': '00000000-0000-0000-0000-000000000000', 'formatted_label': None}\n",
            "{'id': 'R70794', 'label': 'question answering', 'classes': [], 'shared': 4, 'featured': False, 'unlisted': False, 'verified': False, 'extraction_method': 'UNKNOWN', '_class': 'resource', 'created_at': '2021-03-05T15:48:30.499374+01:00', 'created_by': '9252be98-6882-4021-9712-ed7f0742dc7b', 'observatory_id': '00000000-0000-0000-0000-000000000000', 'organization_id': '00000000-0000-0000-0000-000000000000', 'formatted_label': None}\n",
            "{'id': 'R162423', 'label': 'Question Answering', 'classes': [], 'shared': 7, 'featured': False, 'unlisted': False, 'verified': False, 'extraction_method': 'UNKNOWN', '_class': 'resource', 'created_at': '2022-01-17T20:33:59.095021+01:00', 'created_by': 'b485d8a6-153c-4118-aecb-809b76b4d90d', 'observatory_id': '00000000-0000-0000-0000-000000000000', 'organization_id': '00000000-0000-0000-0000-000000000000', 'formatted_label': None}\n",
            "{'id': 'R215553', 'label': 'Question Answering', 'classes': [], 'shared': 1, 'featured': False, 'unlisted': False, 'verified': False, 'extraction_method': 'UNKNOWN', '_class': 'resource', 'created_at': '2022-09-04T16:33:44.466543Z', 'created_by': 'aa79db4d-6762-4eb3-88fe-4db43405970c', 'observatory_id': '00000000-0000-0000-0000-000000000000', 'organization_id': '00000000-0000-0000-0000-000000000000', 'formatted_label': None}\n",
            "{'id': 'R218212', 'label': 'Question answering', 'classes': ['C40013', 'Contribution'], 'shared': 5, 'featured': False, 'unlisted': False, 'verified': False, 'extraction_method': 'UNKNOWN', '_class': 'resource', 'created_at': '2022-09-23T11:52:51.916517Z', 'created_by': 'ebdd4856-0ac9-4a65-a077-470fe2ca6826', 'observatory_id': '00000000-0000-0000-0000-000000000000', 'organization_id': '00000000-0000-0000-0000-000000000000', 'formatted_label': None}\n",
            "{'id': 'wikidata:Q1074173', 'label': 'question answering', 'classes': ['External'], 'shared': 3, 'featured': False, 'unlisted': False, 'verified': False, 'extraction_method': 'UNKNOWN', '_class': 'resource', 'created_at': '2022-10-06T07:53:30.982114Z', 'created_by': 'ebdd4856-0ac9-4a65-a077-470fe2ca6826', 'observatory_id': '00000000-0000-0000-0000-000000000000', 'organization_id': '00000000-0000-0000-0000-000000000000', 'formatted_label': None}\n",
            "{'id': 'PWC_QUESTION_ANSWERING_PROBLEM', 'label': 'Question answering', 'classes': ['Problem'], 'shared': 434, 'featured': False, 'unlisted': False, 'verified': False, 'extraction_method': 'UNKNOWN', '_class': 'resource', 'created_at': '2023-03-08T15:37:49.661229Z', 'created_by': '491f3ea5-548d-487d-9498-96d5deae1d50', 'observatory_id': '00000000-0000-0000-0000-000000000000', 'organization_id': '00000000-0000-0000-0000-000000000000', 'formatted_label': None}\n",
            "{'id': 'PWC_QUESTION_ANSWERING_C14024', 'label': 'Question answering', 'classes': ['C20041'], 'shared': 7, 'featured': False, 'unlisted': False, 'verified': False, 'extraction_method': 'UNKNOWN', '_class': 'resource', 'created_at': '2023-03-08T16:08:43.640812Z', 'created_by': '491f3ea5-548d-487d-9498-96d5deae1d50', 'observatory_id': '00000000-0000-0000-0000-000000000000', 'organization_id': '00000000-0000-0000-0000-000000000000', 'formatted_label': None}\n",
            "{'id': 'R567252', 'label': 'question answering', 'classes': ['Problem'], 'shared': 102, 'featured': False, 'unlisted': False, 'verified': False, 'extraction_method': 'UNKNOWN', '_class': 'resource', 'created_at': '2023-03-14T12:11:01.403633Z', 'created_by': '72222a28-c0a1-4632-bb01-1ff69cd70cb7', 'observatory_id': '00000000-0000-0000-0000-000000000000', 'organization_id': '00000000-0000-0000-0000-000000000000', 'formatted_label': None}\n",
            "{'id': 'R567311', 'label': 'Question-answering', 'classes': [], 'shared': 1, 'featured': False, 'unlisted': False, 'verified': False, 'extraction_method': 'UNKNOWN', '_class': 'resource', 'created_at': '2023-03-14T12:11:05.652895Z', 'created_by': '72222a28-c0a1-4632-bb01-1ff69cd70cb7', 'observatory_id': '00000000-0000-0000-0000-000000000000', 'organization_id': '00000000-0000-0000-0000-000000000000', 'formatted_label': None}\n",
            "Enter ID of a selected resource: R567252\n",
            "Enter a property label or \"ok\" if you have enough filters: keywords\n",
            "{'id': 'P3000', 'label': 'keywords', 'description': 'Keywords or tags used to describe this content. Multiple entries in a keywords list are typically delimited by commas.', '_class': 'predicate', 'created_at': '2019-01-06T15:04:07.692Z', 'created_by': '00000000-0000-0000-0000-000000000000'}\n",
            "{'id': 'P35085', 'label': 'Index Keywords', 'description': None, '_class': 'predicate', 'created_at': '2021-04-18T06:22:54.046686+02:00', 'created_by': 'c5d6635a-0cda-4244-b06c-214cc237adff'}\n",
            "{'id': 'P35081', 'label': 'Author Keywords', 'description': None, '_class': 'predicate', 'created_at': '2021-04-18T06:22:49.568672+02:00', 'created_by': 'c5d6635a-0cda-4244-b06c-214cc237adff'}\n",
            "{'id': 'P71095', 'label': 'A representative selection of keywords', 'description': 'A selection of the most distinctive terms used in the subject category', '_class': 'predicate', 'created_at': '2022-09-29T15:40:07.020876Z', 'created_by': '008ffffe-9945-477f-86df-f86181e1b4be'}\n",
            "Enter ID of a selected property: P3000\n",
            "Enter a resource label: knowledge graph\n",
            "{'id': 'R140223', 'label': 'knowledge graph', 'classes': ['Problem'], 'shared': 0, 'featured': False, 'unlisted': False, 'verified': False, 'extraction_method': 'UNKNOWN', '_class': 'resource', 'created_at': '2021-08-23T21:09:38.818324+02:00', 'created_by': 'cab5d09c-a05d-415e-8f10-9bebdd3b75a3', 'observatory_id': '00000000-0000-0000-0000-000000000000', 'organization_id': '00000000-0000-0000-0000-000000000000', 'formatted_label': None}\n",
            "{'id': 'R157100', 'label': 'Knowledge Graph', 'classes': [], 'shared': 2, 'featured': False, 'unlisted': False, 'verified': False, 'extraction_method': 'UNKNOWN', '_class': 'resource', 'created_at': '2021-12-07T09:26:55.142559+01:00', 'created_by': '641d08b6-ef9b-4bd6-b900-bfe4763bb23c', 'observatory_id': '00000000-0000-0000-0000-000000000000', 'organization_id': '00000000-0000-0000-0000-000000000000', 'formatted_label': None}\n",
            "{'id': 'R171945', 'label': 'Knowledge Graph', 'classes': [], 'shared': 2, 'featured': False, 'unlisted': False, 'verified': False, 'extraction_method': 'UNKNOWN', '_class': 'resource', 'created_at': '2022-02-28T13:31:21.54513+01:00', 'created_by': '365117e4-ad5b-4791-a7df-ea568d2660b3', 'observatory_id': '00000000-0000-0000-0000-000000000000', 'organization_id': '00000000-0000-0000-0000-000000000000', 'formatted_label': None}\n",
            "{'id': 'wikidata:Q33002955', 'label': 'knowledge graph', 'classes': ['External'], 'shared': 6, 'featured': False, 'unlisted': False, 'verified': False, 'extraction_method': 'UNKNOWN', '_class': 'resource', 'created_at': '2022-10-06T10:52:49.968205Z', 'created_by': 'ebdd4856-0ac9-4a65-a077-470fe2ca6826', 'observatory_id': '00000000-0000-0000-0000-000000000000', 'organization_id': '00000000-0000-0000-0000-000000000000', 'formatted_label': None}\n",
            "{'id': 'R257001', 'label': 'Knowledge graph', 'classes': [], 'shared': 31, 'featured': False, 'unlisted': False, 'verified': False, 'extraction_method': 'UNKNOWN', '_class': 'resource', 'created_at': '2022-11-25T14:16:04.773377Z', 'created_by': 'ebdd4856-0ac9-4a65-a077-470fe2ca6826', 'observatory_id': '00000000-0000-0000-0000-000000000000', 'organization_id': '00000000-0000-0000-0000-000000000000', 'formatted_label': None}\n",
            "{'id': 'R286303', 'label': 'Knowledge Graph', 'classes': ['C52013'], 'shared': 205, 'featured': False, 'unlisted': False, 'verified': False, 'extraction_method': 'UNKNOWN', '_class': 'resource', 'created_at': '2023-02-05T05:57:03.853195Z', 'created_by': 'ebdd4856-0ac9-4a65-a077-470fe2ca6826', 'observatory_id': '00000000-0000-0000-0000-000000000000', 'organization_id': '00000000-0000-0000-0000-000000000000', 'formatted_label': None}\n",
            "{'id': 'R567340', 'label': 'knowledge-graph', 'classes': [], 'shared': 1, 'featured': False, 'unlisted': False, 'verified': False, 'extraction_method': 'UNKNOWN', '_class': 'resource', 'created_at': '2023-03-14T12:11:07.960764Z', 'created_by': '72222a28-c0a1-4632-bb01-1ff69cd70cb7', 'observatory_id': '00000000-0000-0000-0000-000000000000', 'organization_id': '00000000-0000-0000-0000-000000000000', 'formatted_label': None}\n",
            "{'id': 'R567840', 'label': 'Knowledge-graph', 'classes': [], 'shared': 1, 'featured': False, 'unlisted': False, 'verified': False, 'extraction_method': 'UNKNOWN', '_class': 'resource', 'created_at': '2023-03-14T12:12:09.239058Z', 'created_by': '72222a28-c0a1-4632-bb01-1ff69cd70cb7', 'observatory_id': '00000000-0000-0000-0000-000000000000', 'organization_id': '00000000-0000-0000-0000-000000000000', 'formatted_label': None}\n",
            "{'id': 'R572567', 'label': 'Knowledge Graph', 'classes': ['C58035'], 'shared': 63, 'featured': False, 'unlisted': False, 'verified': False, 'extraction_method': 'UNKNOWN', '_class': 'resource', 'created_at': '2023-03-15T15:17:46.651347Z', 'created_by': '61a04b37-e5a3-40a1-a767-81adf2ce706e', 'observatory_id': '4b337325-7dc5-4b01-a778-7d272d3a9704', 'organization_id': 'eaec0b0c-7c98-46d2-b4d7-78cf8447e62b', 'formatted_label': None}\n",
            "{'id': 'R576410', 'label': 'Knowledge Graph', 'classes': ['C34011'], 'shared': 2, 'featured': False, 'unlisted': False, 'verified': False, 'extraction_method': 'UNKNOWN', '_class': 'resource', 'created_at': '2023-03-18T13:57:22.186952Z', 'created_by': 'ebdd4856-0ac9-4a65-a077-470fe2ca6826', 'observatory_id': '00000000-0000-0000-0000-000000000000', 'organization_id': '00000000-0000-0000-0000-000000000000', 'formatted_label': None}\n",
            "Enter ID of a selected resource: R286303\n",
            "Enter a property label or \"ok\" if you have enough filters: ok\n",
            "Added filters: \n",
            "property: P32, resource: R567252\n",
            "property: P3000, resource: R286303\n"
          ]
        }
      ]
    },
    {
      "cell_type": "markdown",
      "source": [
        "## Useful filters (label, id):\n",
        "\n",
        "* research problem, P32:\n",
        "  * entity extraction, R567246\n",
        "  * question answering, R567252\n",
        "  * KG Completion, R573930\n",
        "* approach, HAS_APPROACH:\n",
        "  * Knowledge Graph Embedding, R69603\n",
        "  * Deep Learning, R38156\n",
        "* method, METHOD:\n",
        "  * Bidirectional Encoder Representations from Transformers (BERT), R212628\n",
        "  * Random Forest (RF), R212792\n",
        "  * Support Vector Machine (SVM), R191529\n",
        "* keywords, P3000:\n",
        "  * Knowledge Graph, R286303\n",
        "  * Natural language processing, R278000\n",
        "  * Knowledge Representation, R109071\n",
        "* evaluation, HAS_EVALUATION\n",
        "  * Precision, R286363\n",
        "  * F1-Score, R318640"
      ],
      "metadata": {
        "id": "g548sf6Tn0GX"
      }
    },
    {
      "cell_type": "markdown",
      "source": [
        "## Quering contributions by filters"
      ],
      "metadata": {
        "id": "1EXYlqSOndTs"
      }
    },
    {
      "cell_type": "code",
      "source": [
        "from collections import Counter\n",
        "\n",
        "contrs = []\n",
        "for filter in filters:\n",
        "  prop = filter[0]\n",
        "  obj = filter[1]\n",
        "  response = connector.statements.get_by_object_and_predicate(object_id = obj, predicate_id = prop)\n",
        "  if response.succeeded:\n",
        "    for contr in response.content:\n",
        "      contrs.append(contr['subject']['id'])\n",
        "\n",
        "print('Founded contributions: ')\n",
        "for contr_id, count in Counter(contrs).items():\n",
        "  print(f'contribution id: {contr_id}, number of mathes: {count}')"
      ],
      "metadata": {
        "colab": {
          "base_uri": "https://localhost:8080/"
        },
        "id": "bAYjloOgnEkZ",
        "outputId": "f496aeea-8766-49bb-b5a8-5a4e9dadfb70"
      },
      "execution_count": 6,
      "outputs": [
        {
          "output_type": "stream",
          "name": "stdout",
          "text": [
            "Founded contributions: \n",
            "contribution id: R568387, number of mathes: 1\n",
            "contribution id: R569352, number of mathes: 1\n",
            "contribution id: R569343, number of mathes: 1\n",
            "contribution id: R569326, number of mathes: 1\n",
            "contribution id: R569325, number of mathes: 1\n",
            "contribution id: R569308, number of mathes: 1\n",
            "contribution id: R569295, number of mathes: 1\n",
            "contribution id: R569275, number of mathes: 1\n",
            "contribution id: R569267, number of mathes: 1\n",
            "contribution id: R569265, number of mathes: 1\n",
            "contribution id: R569189, number of mathes: 2\n",
            "contribution id: R569184, number of mathes: 1\n",
            "contribution id: R569176, number of mathes: 1\n",
            "contribution id: R569157, number of mathes: 1\n",
            "contribution id: R569136, number of mathes: 1\n",
            "contribution id: R569113, number of mathes: 1\n",
            "contribution id: R569099, number of mathes: 2\n",
            "contribution id: R569087, number of mathes: 1\n",
            "contribution id: R569081, number of mathes: 1\n",
            "contribution id: R569044, number of mathes: 2\n",
            "contribution id: R567461, number of mathes: 1\n",
            "contribution id: R569288, number of mathes: 1\n",
            "contribution id: R569286, number of mathes: 1\n",
            "contribution id: R569284, number of mathes: 1\n",
            "contribution id: R569219, number of mathes: 1\n",
            "contribution id: R569193, number of mathes: 1\n",
            "contribution id: R569162, number of mathes: 1\n",
            "contribution id: R569126, number of mathes: 1\n",
            "contribution id: R569125, number of mathes: 1\n",
            "contribution id: R569124, number of mathes: 1\n",
            "contribution id: R569058, number of mathes: 1\n",
            "contribution id: R569038, number of mathes: 1\n",
            "contribution id: R569030, number of mathes: 1\n",
            "contribution id: R569022, number of mathes: 1\n",
            "contribution id: R569004, number of mathes: 1\n",
            "contribution id: R568995, number of mathes: 1\n",
            "contribution id: R568970, number of mathes: 1\n"
          ]
        }
      ]
    },
    {
      "cell_type": "markdown",
      "source": [
        "## Quering papers by contributions\n"
      ],
      "metadata": {
        "id": "iV0zW81wnp56"
      }
    },
    {
      "cell_type": "code",
      "source": [
        "while True:\n",
        "  contr_id = input('Enter ID of a selected contribution, or \"q\" to quit: ')\n",
        "  if contr_id == 'q':\n",
        "    break\n",
        "  response = connector.statements.get_by_object_and_predicate(object_id = contr_id, predicate_id = 'P31', size = 10)\n",
        "  if response.succeeded:\n",
        "    paper = response.content[0]\n",
        "    paper_id = paper['subject']['id']\n",
        "    print(f'ID of a paper with the selected contribution: {paper_id}')\n",
        "    response = connector.statements.get_by_subject_and_predicate(subject_id = paper_id, predicate_id = 'P26')\n",
        "    if response.succeeded and response.content:\n",
        "      doi = response.content[0]['object']['label']\n",
        "      print(f'DOI of the paper: {doi}')\n",
        "    else:\n",
        "      print(f'DOI not found')\n",
        "  else:\n",
        "    print('Wrong ID, enter ID again')\n",
        "    continue"
      ],
      "metadata": {
        "colab": {
          "base_uri": "https://localhost:8080/"
        },
        "id": "iU-ZiyZOnLm8",
        "outputId": "a402aa97-cd1b-481c-d721-28bc58b0f0e9"
      },
      "execution_count": 8,
      "outputs": [
        {
          "name": "stdout",
          "output_type": "stream",
          "text": [
            "Enter ID of a selected contribution, or \"q\" to quit: R569189\n",
            "ID of a paper with the selected contribution: R569187\n",
            "DOI not found\n",
            "Enter ID of a selected contribution, or \"q\" to quit: q\n"
          ]
        }
      ]
    }
  ]
}
