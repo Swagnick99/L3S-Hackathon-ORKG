{
  "nbformat": 4,
  "nbformat_minor": 0,
  "metadata": {
    "colab": {
      "provenance": []
    },
    "kernelspec": {
      "name": "python3",
      "display_name": "Python 3"
    },
    "language_info": {
      "name": "python"
    }
  },
  "cells": [
    {
      "cell_type": "markdown",
      "source": [
        "### ***What is ORKG?***\n",
        "\n",
        "We build the next generation digital libraries for semantic scientific knowledge communicated in scholarly literature. We focus on the communicated content rather than the context e.g., people and institutions in which scientific knowledge is communicated, and the content is semantic i.e., machine interpretable.\n",
        "\n",
        "Scientific knowledge continues to be confined to the document, seemingly inseparable from the medium as hieroglyphs carved in stone. The global scientific knowledge base is little more than a collection of documents. It is written by humans for humans, and we have done so for a long time. This makes perfect sense, after all it is people that make up the audience, and researchers in particular.\n",
        "\n",
        "Yet, with the monumental progress in information technologies over the more recent decades, one may wonder why it is that the scientific knowledge communicated in scholarly literature remains largely inaccessible to machines. Surely it would be useful if some of that knowledge is more available to automated processing.\n",
        "\n",
        "The Open Research Knowledge Graph project is working on answers and solutions. The recently initiated TIB coordinated project is open to the community and actively engages research infrastructures and research communities in the development of technologies and use cases for open graphs about research knowledge.\n",
        "\n"
      ],
      "metadata": {
        "id": "HCciEyF3qUvF"
      }
    },
    {
      "cell_type": "markdown",
      "source": [
        "### ***Who can use ORKG package?***\n",
        "\n",
        "Well, the short answer is anybody. The package is designed to be minimalistic, simple knowledge of python and JSON suffices for you to know and understand how the package works.\n",
        "\n",
        "You can use the ORKG package to add/edit/list data from any instance of the open research knowledge graph. It can be easily integrated into data science workflows, it can be used to fetch data for analysis and visualizations.\n",
        "\n",
        "The sky is your limit :)"
      ],
      "metadata": {
        "id": "KHMQRx9FqrPn"
      }
    },
    {
      "cell_type": "markdown",
      "source": [
        "### ***ORKG python package documentation***"
      ],
      "metadata": {
        "id": "J6V60gsiRDYE"
      }
    },
    {
      "cell_type": "markdown",
      "source": [
        "https://orkg.readthedocs.io/en/latest/introduction.html"
      ],
      "metadata": {
        "id": "2QCfjDoeSS2j"
      }
    },
    {
      "cell_type": "markdown",
      "source": [
        "# ***Installation***"
      ],
      "metadata": {
        "id": "l7Es5Ghur4V6"
      }
    },
    {
      "cell_type": "markdown",
      "source": [
        "ORKG python package is a simple API wrapper for the ORKG’s API.\n",
        "\n",
        "Start using it by typing these few words:"
      ],
      "metadata": {
        "id": "RKuTxi9mpxuG"
      }
    },
    {
      "cell_type": "code",
      "source": [
        "!pip install orkg"
      ],
      "metadata": {
        "colab": {
          "base_uri": "https://localhost:8080/"
        },
        "id": "Ke5fPuYgprJC",
        "outputId": "261ee536-fee0-4e45-eee6-c4efae8545e3"
      },
      "execution_count": 2,
      "outputs": [
        {
          "output_type": "stream",
          "name": "stdout",
          "text": [
            "Collecting orkg\n",
            "  Downloading orkg-0.18.0-py3-none-any.whl (46 kB)\n",
            "\u001b[?25l     \u001b[90m━━━━━━━━━━━━━━━━━━━━━━━━━━━━━━━━━━━━━━━━\u001b[0m \u001b[32m0.0/46.6 kB\u001b[0m \u001b[31m?\u001b[0m eta \u001b[36m-:--:--\u001b[0m\r\u001b[2K     \u001b[90m━━━━━━━━━━━━━━━━━━━━━━━━━━━━━━━━━━━━━━━━\u001b[0m \u001b[32m46.6/46.6 kB\u001b[0m \u001b[31m2.3 MB/s\u001b[0m eta \u001b[36m0:00:00\u001b[0m\n",
            "\u001b[?25hCollecting Deprecated<2.0.0,>=1.2.14 (from orkg)\n",
            "  Downloading Deprecated-1.2.14-py2.py3-none-any.whl (9.6 kB)\n",
            "Collecting Faker<20.0.0,>=19.1.0 (from orkg)\n",
            "  Downloading Faker-19.6.2-py3-none-any.whl (1.7 MB)\n",
            "\u001b[2K     \u001b[90m━━━━━━━━━━━━━━━━━━━━━━━━━━━━━━━━━━━━━━━━\u001b[0m \u001b[32m1.7/1.7 MB\u001b[0m \u001b[31m32.1 MB/s\u001b[0m eta \u001b[36m0:00:00\u001b[0m\n",
            "\u001b[?25hCollecting Inflector<4.0.0,>=3.1.0 (from orkg)\n",
            "  Downloading Inflector-3.1.0-py3-none-any.whl (12 kB)\n",
            "Collecting cardinality<0.2.0,>=0.1.1 (from orkg)\n",
            "  Downloading cardinality-0.1.1.tar.gz (2.3 kB)\n",
            "  Preparing metadata (setup.py) ... \u001b[?25l\u001b[?25hdone\n",
            "Collecting hammock<0.3.0,>=0.2.4 (from orkg)\n",
            "  Downloading hammock-0.2.4.tar.gz (4.8 kB)\n",
            "  Preparing metadata (setup.py) ... \u001b[?25l\u001b[?25hdone\n",
            "Requirement already satisfied: networkx<4.0,>=3.1 in /usr/local/lib/python3.10/dist-packages (from orkg) (3.1)\n",
            "Collecting pandas<3.0.0,>=2.0.1 (from orkg)\n",
            "  Downloading pandas-2.1.1-cp310-cp310-manylinux_2_17_x86_64.manylinux2014_x86_64.whl (12.3 MB)\n",
            "\u001b[2K     \u001b[90m━━━━━━━━━━━━━━━━━━━━━━━━━━━━━━━━━━━━━━━\u001b[0m \u001b[32m12.3/12.3 MB\u001b[0m \u001b[31m105.8 MB/s\u001b[0m eta \u001b[36m0:00:00\u001b[0m\n",
            "\u001b[?25hCollecting pydantic<3.0.0,>=2.0.3 (from orkg)\n",
            "  Downloading pydantic-2.4.2-py3-none-any.whl (395 kB)\n",
            "\u001b[2K     \u001b[90m━━━━━━━━━━━━━━━━━━━━━━━━━━━━━━━━━━━━━━\u001b[0m \u001b[32m395.8/395.8 kB\u001b[0m \u001b[31m39.4 MB/s\u001b[0m eta \u001b[36m0:00:00\u001b[0m\n",
            "\u001b[?25hRequirement already satisfied: requests<3.0.0,>=2.31.0 in /usr/local/lib/python3.10/dist-packages (from orkg) (2.31.0)\n",
            "Requirement already satisfied: tqdm<5.0.0,>=4.65.0 in /usr/local/lib/python3.10/dist-packages (from orkg) (4.66.1)\n",
            "Collecting undecorated<0.4.0,>=0.3.0 (from orkg)\n",
            "  Downloading undecorated-0.3.0-py3-none-any.whl (4.8 kB)\n",
            "Requirement already satisfied: wrapt<2,>=1.10 in /usr/local/lib/python3.10/dist-packages (from Deprecated<2.0.0,>=1.2.14->orkg) (1.15.0)\n",
            "Requirement already satisfied: python-dateutil>=2.4 in /usr/local/lib/python3.10/dist-packages (from Faker<20.0.0,>=19.1.0->orkg) (2.8.2)\n",
            "Requirement already satisfied: numpy>=1.22.4 in /usr/local/lib/python3.10/dist-packages (from pandas<3.0.0,>=2.0.1->orkg) (1.23.5)\n",
            "Requirement already satisfied: pytz>=2020.1 in /usr/local/lib/python3.10/dist-packages (from pandas<3.0.0,>=2.0.1->orkg) (2023.3.post1)\n",
            "Collecting tzdata>=2022.1 (from pandas<3.0.0,>=2.0.1->orkg)\n",
            "  Downloading tzdata-2023.3-py2.py3-none-any.whl (341 kB)\n",
            "\u001b[2K     \u001b[90m━━━━━━━━━━━━━━━━━━━━━━━━━━━━━━━━━━━━━━\u001b[0m \u001b[32m341.8/341.8 kB\u001b[0m \u001b[31m34.3 MB/s\u001b[0m eta \u001b[36m0:00:00\u001b[0m\n",
            "\u001b[?25hCollecting annotated-types>=0.4.0 (from pydantic<3.0.0,>=2.0.3->orkg)\n",
            "  Downloading annotated_types-0.6.0-py3-none-any.whl (12 kB)\n",
            "Collecting pydantic-core==2.10.1 (from pydantic<3.0.0,>=2.0.3->orkg)\n",
            "  Downloading pydantic_core-2.10.1-cp310-cp310-manylinux_2_17_x86_64.manylinux2014_x86_64.whl (2.0 MB)\n",
            "\u001b[2K     \u001b[90m━━━━━━━━━━━━━━━━━━━━━━━━━━━━━━━━━━━━━━━━\u001b[0m \u001b[32m2.0/2.0 MB\u001b[0m \u001b[31m96.1 MB/s\u001b[0m eta \u001b[36m0:00:00\u001b[0m\n",
            "\u001b[?25hCollecting typing-extensions>=4.6.1 (from pydantic<3.0.0,>=2.0.3->orkg)\n",
            "  Downloading typing_extensions-4.8.0-py3-none-any.whl (31 kB)\n",
            "Requirement already satisfied: charset-normalizer<4,>=2 in /usr/local/lib/python3.10/dist-packages (from requests<3.0.0,>=2.31.0->orkg) (3.3.0)\n",
            "Requirement already satisfied: idna<4,>=2.5 in /usr/local/lib/python3.10/dist-packages (from requests<3.0.0,>=2.31.0->orkg) (3.4)\n",
            "Requirement already satisfied: urllib3<3,>=1.21.1 in /usr/local/lib/python3.10/dist-packages (from requests<3.0.0,>=2.31.0->orkg) (2.0.6)\n",
            "Requirement already satisfied: certifi>=2017.4.17 in /usr/local/lib/python3.10/dist-packages (from requests<3.0.0,>=2.31.0->orkg) (2023.7.22)\n",
            "Requirement already satisfied: six>=1.5 in /usr/local/lib/python3.10/dist-packages (from python-dateutil>=2.4->Faker<20.0.0,>=19.1.0->orkg) (1.16.0)\n",
            "Building wheels for collected packages: cardinality, hammock\n",
            "  Building wheel for cardinality (setup.py) ... \u001b[?25l\u001b[?25hdone\n",
            "  Created wheel for cardinality: filename=cardinality-0.1.1-py3-none-any.whl size=2587 sha256=0153d984a0c06dea4952258f95218ccf0e0d9f2106bbc17a6564dfeca1230845\n",
            "  Stored in directory: /root/.cache/pip/wheels/b8/19/d1/2665c004b583a7d1880fa59055a3e462d6e35841a01b57010b\n",
            "  Building wheel for hammock (setup.py) ... \u001b[?25l\u001b[?25hdone\n",
            "  Created wheel for hammock: filename=hammock-0.2.4-py3-none-any.whl size=2406 sha256=ae8b871f4f42bde6e73e9b5d5366603c8552fcf1f1c43ece78c84c9d7472a5a4\n",
            "  Stored in directory: /root/.cache/pip/wheels/f3/55/5b/e1e1e4366a23623af753c68c926db14ea6e58c0f0386511cfa\n",
            "Successfully built cardinality hammock\n",
            "Installing collected packages: undecorated, Inflector, cardinality, tzdata, typing-extensions, Deprecated, annotated-types, pydantic-core, pandas, hammock, Faker, pydantic, orkg\n",
            "  Attempting uninstall: typing-extensions\n",
            "    Found existing installation: typing_extensions 4.5.0\n",
            "    Uninstalling typing_extensions-4.5.0:\n",
            "      Successfully uninstalled typing_extensions-4.5.0\n",
            "  Attempting uninstall: pandas\n",
            "    Found existing installation: pandas 1.5.3\n",
            "    Uninstalling pandas-1.5.3:\n",
            "      Successfully uninstalled pandas-1.5.3\n",
            "  Attempting uninstall: pydantic\n",
            "    Found existing installation: pydantic 1.10.13\n",
            "    Uninstalling pydantic-1.10.13:\n",
            "      Successfully uninstalled pydantic-1.10.13\n",
            "\u001b[31mERROR: pip's dependency resolver does not currently take into account all the packages that are installed. This behaviour is the source of the following dependency conflicts.\n",
            "google-colab 1.0.0 requires pandas==1.5.3, but you have pandas 2.1.1 which is incompatible.\n",
            "tensorflow 2.13.0 requires typing-extensions<4.6.0,>=3.6.6, but you have typing-extensions 4.8.0 which is incompatible.\u001b[0m\u001b[31m\n",
            "\u001b[0mSuccessfully installed Deprecated-1.2.14 Faker-19.6.2 Inflector-3.1.0 annotated-types-0.6.0 cardinality-0.1.1 hammock-0.2.4 orkg-0.18.0 pandas-2.1.1 pydantic-2.4.2 pydantic-core-2.10.1 typing-extensions-4.8.0 tzdata-2023.3 undecorated-0.3.0\n"
          ]
        }
      ]
    },
    {
      "cell_type": "markdown",
      "source": [
        "# ***Usage***"
      ],
      "metadata": {
        "id": "8RVmIkK0sCqt"
      }
    },
    {
      "cell_type": "markdown",
      "source": [
        "In order to use the package in your python code, you just need to import it and instantiate an instance of the base class to use it."
      ],
      "metadata": {
        "id": "Si9KGqWAbHyZ"
      }
    },
    {
      "cell_type": "code",
      "source": [
        "from orkg import ORKG # import base class from package\n",
        "\n",
        "orkg = ORKG(host=\"<host-address-is-here>\", creds=('email-address', 'password')) # create the connector to the ORKG"
      ],
      "metadata": {
        "id": "OX-nnTGQqLwT"
      },
      "execution_count": 4,
      "outputs": []
    },
    {
      "cell_type": "markdown",
      "source": [
        "The package can be used to connect to any instance of the ORKG local or remote. The host parameter may be specified with an address or environment name (see below).\n",
        "Optionally you can provide the credentials to authenticate your requests. If host is not specified, it defaults to sandbox."
      ],
      "metadata": {
        "id": "SMa55JklbyJj"
      }
    },
    {
      "cell_type": "markdown",
      "source": [
        " # ***Host***"
      ],
      "metadata": {
        "id": "yAbwKU9qbj02"
      }
    },
    {
      "cell_type": "markdown",
      "source": [
        "Three different host environments are available:\n",
        "\n",
        "\n",
        "1.   ***Production***: The most stable version of the ORKG. Use this host to access the current version of the graph and add persistent data."
      ],
      "metadata": {
        "id": "JlX_nkV1byp1"
      }
    },
    {
      "cell_type": "code",
      "source": [
        "# from orkg import ORKG, Hosts # import base class from package\n",
        "\n",
        "# connector = ORKG(host=Hosts.PRODUCTION) # create the connector to the ORKG\n"
      ],
      "metadata": {
        "id": "SSQsrLMGbPC2"
      },
      "execution_count": null,
      "outputs": []
    },
    {
      "cell_type": "markdown",
      "source": [
        "\n",
        "2. ***Sandbox:*** The ORKG playground! It has the same features that exist on production at any given time. Use this host to experiment with the ORKG or Python package features without adding data to the main graph. Data added to sandbox is periodically deleted, and this version of the ORKG may not contain all of the data found in the production graph.\n",
        "\n"
      ],
      "metadata": {
        "id": "EgZZLsoLcEAS"
      }
    },
    {
      "cell_type": "code",
      "source": [
        "from orkg import ORKG, Hosts # import base class from package\n",
        "\n",
        "connector = ORKG(host=Hosts.SANDBOX) # create the connector to the ORKG"
      ],
      "metadata": {
        "id": "AKp1gQUFcRcc"
      },
      "execution_count": 5,
      "outputs": []
    },
    {
      "cell_type": "markdown",
      "source": [
        "\n",
        "3. ***Incubating:*** The ORKG version with the newest features being tested. Since features are still under development, this version may break or not function as expected. Data added to incubating is periodically deleted, and this version of the ORKG may not contain all of the data found in the production graph.\n",
        "\n"
      ],
      "metadata": {
        "id": "Ng4CPrO9cY_i"
      }
    },
    {
      "cell_type": "code",
      "source": [
        "# from orkg import ORKG, Hosts # import base class from package\n",
        "\n",
        "# connector = ORKG(host=Hosts.INCUBATING) # create the connector to the ORKG"
      ],
      "metadata": {
        "id": "HihLXqT0cX-f"
      },
      "execution_count": null,
      "outputs": []
    },
    {
      "cell_type": "markdown",
      "source": [
        "Three main classes should be known when using the ORKG python package.\n",
        "\n",
        "\n",
        "\n",
        "1. ORKG class (main class to connect to an ORKG instance).\n",
        "2. OrkgResponse (output encapsulation for the ORKG API).\n",
        "3. OrkgUnpaginatedResponse (output encapsulation for pageable endpoints of the ORKG API)\n"
      ],
      "metadata": {
        "id": "YsLqyZ0YskXH"
      }
    },
    {
      "cell_type": "code",
      "source": [
        "connector.resources # entry point to manipulate ORKG resources\n",
        "connector.predicates # entry point to manipulate ORKG predicates\n",
        "connector.classes # entry point to manipulate ORKG classes\n",
        "connector.literals # entry point to manipulate ORKG literals\n",
        "connector.stats # entry point to get ORKG statistics\n",
        "connector.statements # entry point to manipulate ORKG statements\n",
        "connector.papers # entry point to manipulate ORKG papers\n",
        "connector.comparisons # entry point to manipulate ORKG comparisons\n",
        "connector.objects # entry point to manipulate ORKG objects\n",
        "connector.templates # entry point to manipulate ORKG templates (Alpha)\n",
        "connector.harvesters # entry point to run harvesting functionalities on top of ORKG data (Alpha)"
      ],
      "metadata": {
        "id": "3N-T3YQYskid",
        "colab": {
          "base_uri": "https://localhost:8080/"
        },
        "outputId": "a4ea0f42-910d-46c9-b378-409c37e4cb71"
      },
      "execution_count": 6,
      "outputs": [
        {
          "output_type": "execute_result",
          "data": {
            "text/plain": [
              "<orkg.client.harvesters.harvesters.HarvestersClient at 0x7bcbc0c9a620>"
            ]
          },
          "metadata": {},
          "execution_count": 6
        }
      ]
    },
    {
      "cell_type": "markdown",
      "source": [
        "For the other main component which represent the output of all requests in the package."
      ],
      "metadata": {
        "id": "x1gTBlk1s5sq"
      }
    },
    {
      "cell_type": "code",
      "source": [
        "connector.ping() # this call will check the availability of the ORKG and returns True if the request is successful; otherwise, returns False."
      ],
      "metadata": {
        "id": "rwl0GZyQs2Uu",
        "colab": {
          "base_uri": "https://localhost:8080/"
        },
        "outputId": "a9aca1e4-08fc-4877-bf1a-bcd1a54171d8"
      },
      "execution_count": 7,
      "outputs": [
        {
          "output_type": "execute_result",
          "data": {
            "text/plain": [
              "True"
            ]
          },
          "metadata": {},
          "execution_count": 7
        }
      ]
    },
    {
      "cell_type": "code",
      "source": [
        "connector.resources.get()  # this call will fetch a collection of resources from the ORKG"
      ],
      "metadata": {
        "id": "mB49alc3s-eu",
        "colab": {
          "base_uri": "https://localhost:8080/"
        },
        "outputId": "14eca9d4-d18c-43a3-db2f-fcdc1a213de2"
      },
      "execution_count": 8,
      "outputs": [
        {
          "output_type": "execute_result",
          "data": {
            "text/plain": [
              "(Success) [{'id': 'R0', 'label': \"Gruber's design of ontologies\", 'classes': [], 'shared': 1, 'featured': False, 'unlisted': False, 'verified': False, 'extraction_method': 'UNKNOWN', '_class': 'resource', 'created_at': '2019-01-06T15:04:07.692Z', 'created_by': '00000000-0000-0000-0000-000000000000', 'observatory_id': '00000000-0000-0000-0000-000000000000', 'organization_id': '00000000-0000-0000-0000-000000000000', 'formatted_label': None}, {'id': 'R172', 'label': 'Oceanography', 'classes': ['ResearchField'], 'shared': 152, 'featured': False, 'unlisted': False, 'verified': False, 'extraction_method': 'UNKNOWN', '_class': 'resource', 'created_at': '2019-01-06T15:04:07.692Z', 'created_by': '00000000-0000-0000-0000-000000000000', 'observatory_id': '00000000-0000-0000-0000-000000000000', 'organization_id': '00000000-0000-0000-0000-000000000000', 'formatted_label': None}, {'id': 'R173', 'label': 'Physics', 'classes': ['ResearchField'], 'shared': 8, 'featured': False, 'unlisted': False, 'verified': False, 'extraction_method': 'UNKNOWN', '_class': 'resource', 'created_at': '2019-01-06T15:04:07.692Z', 'created_by': '00000000-0000-0000-0000-000000000000', 'observatory_id': '00000000-0000-0000-0000-000000000000', 'organization_id': '00000000-0000-0000-0000-000000000000', 'formatted_label': None}, {'id': 'R174', 'label': 'Astronomy and Astrophysics', 'classes': ['ResearchField'], 'shared': 4, 'featured': False, 'unlisted': False, 'verified': False, 'extraction_method': 'UNKNOWN', '_class': 'resource', 'created_at': '2019-01-06T15:04:07.692Z', 'created_by': '00000000-0000-0000-0000-000000000000', 'observatory_id': '00000000-0000-0000-0000-000000000000', 'organization_id': '00000000-0000-0000-0000-000000000000', 'formatted_label': None}, {'id': 'R175', 'label': 'Atomic, Molecular and Optical Physics', 'classes': ['ResearchField'], 'shared': 132, 'featured': False, 'unlisted': False, 'verified': False, 'extraction_method': 'UNKNOWN', '_class': 'resource', 'created_at': '2019-01-06T15:04:07.692Z', 'created_by': '00000000-0000-0000-0000-000000000000', 'observatory_id': '00000000-0000-0000-0000-000000000000', 'organization_id': '00000000-0000-0000-0000-000000000000', 'formatted_label': None}, {'id': 'R176', 'label': 'Biological and Chemical Physics', 'classes': ['ResearchField'], 'shared': 2, 'featured': False, 'unlisted': False, 'verified': False, 'extraction_method': 'UNKNOWN', '_class': 'resource', 'created_at': '2019-01-06T15:04:07.692Z', 'created_by': '00000000-0000-0000-0000-000000000000', 'observatory_id': '00000000-0000-0000-0000-000000000000', 'organization_id': '00000000-0000-0000-0000-000000000000', 'formatted_label': None}, {'id': 'R177', 'label': 'Condensed Matter Physics', 'classes': ['ResearchField'], 'shared': 1, 'featured': False, 'unlisted': False, 'verified': False, 'extraction_method': 'UNKNOWN', '_class': 'resource', 'created_at': '2019-01-06T15:04:07.692Z', 'created_by': '00000000-0000-0000-0000-000000000000', 'observatory_id': '00000000-0000-0000-0000-000000000000', 'organization_id': '00000000-0000-0000-0000-000000000000', 'formatted_label': None}, {'id': 'R178', 'label': 'Cosmology, Relativity, and Gravity', 'classes': ['ResearchField'], 'shared': 2, 'featured': False, 'unlisted': False, 'verified': False, 'extraction_method': 'UNKNOWN', '_class': 'resource', 'created_at': '2019-01-06T15:04:07.692Z', 'created_by': '00000000-0000-0000-0000-000000000000', 'observatory_id': '00000000-0000-0000-0000-000000000000', 'organization_id': '00000000-0000-0000-0000-000000000000', 'formatted_label': None}, {'id': 'R179', 'label': 'Elementary Particles and Fields and String Theory', 'classes': ['ResearchField'], 'shared': 1, 'featured': False, 'unlisted': False, 'verified': False, 'extraction_method': 'UNKNOWN', '_class': 'resource', 'created_at': '2019-01-06T15:04:07.692Z', 'created_by': '00000000-0000-0000-0000-000000000000', 'observatory_id': '00000000-0000-0000-0000-000000000000', 'organization_id': '00000000-0000-0000-0000-000000000000', 'formatted_label': None}, {'id': 'R180', 'label': 'Engineering Physics', 'classes': ['ResearchField'], 'shared': 1, 'featured': False, 'unlisted': False, 'verified': False, 'extraction_method': 'UNKNOWN', '_class': 'resource', 'created_at': '2019-01-06T15:04:07.692Z', 'created_by': '00000000-0000-0000-0000-000000000000', 'observatory_id': '00000000-0000-0000-0000-000000000000', 'organization_id': '00000000-0000-0000-0000-000000000000', 'formatted_label': None}, {'id': 'R181', 'label': 'Fluid Dynamics', 'classes': ['ResearchField'], 'shared': 1, 'featured': False, 'unlisted': False, 'verified': False, 'extraction_method': 'UNKNOWN', '_class': 'resource', 'created_at': '2019-01-06T15:04:07.692Z', 'created_by': '00000000-0000-0000-0000-000000000000', 'observatory_id': '00000000-0000-0000-0000-000000000000', 'organization_id': '00000000-0000-0000-0000-000000000000', 'formatted_label': None}, {'id': 'R182', 'label': 'Non-linear Dynamics', 'classes': ['ResearchField'], 'shared': 1, 'featured': False, 'unlisted': False, 'verified': False, 'extraction_method': 'UNKNOWN', '_class': 'resource', 'created_at': '2019-01-06T15:04:07.692Z', 'created_by': '00000000-0000-0000-0000-000000000000', 'observatory_id': '00000000-0000-0000-0000-000000000000', 'organization_id': '00000000-0000-0000-0000-000000000000', 'formatted_label': None}, {'id': 'R183', 'label': 'Nuclear', 'classes': ['ResearchField'], 'shared': 8, 'featured': False, 'unlisted': False, 'verified': False, 'extraction_method': 'UNKNOWN', '_class': 'resource', 'created_at': '2019-01-06T15:04:07.692Z', 'created_by': '00000000-0000-0000-0000-000000000000', 'observatory_id': '00000000-0000-0000-0000-000000000000', 'organization_id': '00000000-0000-0000-0000-000000000000', 'formatted_label': None}, {'id': 'R184', 'label': 'Optics', 'classes': ['ResearchField'], 'shared': 13, 'featured': False, 'unlisted': False, 'verified': False, 'extraction_method': 'UNKNOWN', '_class': 'resource', 'created_at': '2019-01-06T15:04:07.692Z', 'created_by': '00000000-0000-0000-0000-000000000000', 'observatory_id': '00000000-0000-0000-0000-000000000000', 'organization_id': '00000000-0000-0000-0000-000000000000', 'formatted_label': None}, {'id': 'R185', 'label': 'Plasma and Beam Physics', 'classes': ['ResearchField'], 'shared': 113, 'featured': False, 'unlisted': False, 'verified': False, 'extraction_method': 'UNKNOWN', '_class': 'resource', 'created_at': '2019-01-06T15:04:07.692Z', 'created_by': '00000000-0000-0000-0000-000000000000', 'observatory_id': '00000000-0000-0000-0000-000000000000', 'organization_id': '00000000-0000-0000-0000-000000000000', 'formatted_label': None}, {'id': 'R186', 'label': 'Quantum Physics', 'classes': ['ResearchField'], 'shared': 1, 'featured': False, 'unlisted': False, 'verified': False, 'extraction_method': 'UNKNOWN', '_class': 'resource', 'created_at': '2019-01-06T15:04:07.692Z', 'created_by': '00000000-0000-0000-0000-000000000000', 'observatory_id': '00000000-0000-0000-0000-000000000000', 'organization_id': '00000000-0000-0000-0000-000000000000', 'formatted_label': None}, {'id': 'R1', 'label': 'List A (42 countries)', 'classes': [], 'shared': 0, 'featured': False, 'unlisted': False, 'verified': False, 'extraction_method': 'UNKNOWN', '_class': 'resource', 'created_at': '2019-01-06T15:04:07.692Z', 'created_by': '00000000-0000-0000-0000-000000000000', 'observatory_id': '00000000-0000-0000-0000-000000000000', 'organization_id': '00000000-0000-0000-0000-000000000000', 'formatted_label': None}, {'id': 'R2', 'label': 'Mathematical proof', 'classes': ['Problem'], 'shared': 2, 'featured': False, 'unlisted': False, 'verified': False, 'extraction_method': 'UNKNOWN', '_class': 'resource', 'created_at': '2019-01-06T15:04:07.692Z', 'created_by': '00000000-0000-0000-0000-000000000000', 'observatory_id': '00000000-0000-0000-0000-000000000000', 'organization_id': '00000000-0000-0000-0000-000000000000', 'formatted_label': None}, {'id': 'R3', 'label': 'Modularity theorem', 'classes': [], 'shared': 1, 'featured': False, 'unlisted': False, 'verified': False, 'extraction_method': 'UNKNOWN', '_class': 'resource', 'created_at': '2019-01-06T15:04:07.692Z', 'created_by': '00000000-0000-0000-0000-000000000000', 'observatory_id': '00000000-0000-0000-0000-000000000000', 'organization_id': '00000000-0000-0000-0000-000000000000', 'formatted_label': None}, {'id': 'R4', 'label': \"Fermat's last theorem (conjecture)\", 'classes': [], 'shared': 1, 'featured': False, 'unlisted': False, 'verified': False, 'extraction_method': 'UNKNOWN', '_class': 'resource', 'created_at': '2019-01-06T15:04:07.692Z', 'created_by': '00000000-0000-0000-0000-000000000000', 'observatory_id': '00000000-0000-0000-0000-000000000000', 'organization_id': '00000000-0000-0000-0000-000000000000', 'formatted_label': None}]"
            ]
          },
          "metadata": {},
          "execution_count": 8
        }
      ]
    },
    {
      "cell_type": "markdown",
      "source": [
        "### ***Streamlit***"
      ],
      "metadata": {
        "id": "BeuKpOThS3H6"
      }
    },
    {
      "cell_type": "markdown",
      "source": [
        "Streamlit documentation: https://github.com/streamlit/streamlit\n",
        "\n",
        "Welcome to Streamlit 👋\n",
        "A faster way to build and share data apps.\n",
        "\n"
      ],
      "metadata": {
        "id": "KWIOZsqFtsgj"
      }
    },
    {
      "cell_type": "code",
      "source": [
        "!pip install streamlit"
      ],
      "metadata": {
        "colab": {
          "base_uri": "https://localhost:8080/"
        },
        "id": "LuJAJPXotqdu",
        "outputId": "7dd2a21d-945a-4d0f-ec67-7306fc904d6c"
      },
      "execution_count": 9,
      "outputs": [
        {
          "output_type": "stream",
          "name": "stdout",
          "text": [
            "Collecting streamlit\n",
            "  Downloading streamlit-1.27.2-py2.py3-none-any.whl (7.6 MB)\n",
            "\u001b[?25l     \u001b[90m━━━━━━━━━━━━━━━━━━━━━━━━━━━━━━━━━━━━━━━━\u001b[0m \u001b[32m0.0/7.6 MB\u001b[0m \u001b[31m?\u001b[0m eta \u001b[36m-:--:--\u001b[0m\r\u001b[2K     \u001b[91m━━━━━━━\u001b[0m\u001b[90m╺\u001b[0m\u001b[90m━━━━━━━━━━━━━━━━━━━━━━━━━━━━━━━━\u001b[0m \u001b[32m1.4/7.6 MB\u001b[0m \u001b[31m42.1 MB/s\u001b[0m eta \u001b[36m0:00:01\u001b[0m\r\u001b[2K     \u001b[91m━━━━━━━━━━━━━━━━━━━━━━━━━━━━━━━━━━━\u001b[0m\u001b[90m╺\u001b[0m\u001b[90m━━━━\u001b[0m \u001b[32m6.7/7.6 MB\u001b[0m \u001b[31m97.6 MB/s\u001b[0m eta \u001b[36m0:00:01\u001b[0m\r\u001b[2K     \u001b[90m━━━━━━━━━━━━━━━━━━━━━━━━━━━━━━━━━━━━━━━━\u001b[0m \u001b[32m7.6/7.6 MB\u001b[0m \u001b[31m74.6 MB/s\u001b[0m eta \u001b[36m0:00:00\u001b[0m\n",
            "\u001b[?25hRequirement already satisfied: altair<6,>=4.0 in /usr/local/lib/python3.10/dist-packages (from streamlit) (4.2.2)\n",
            "Requirement already satisfied: blinker<2,>=1.0.0 in /usr/lib/python3/dist-packages (from streamlit) (1.4)\n",
            "Requirement already satisfied: cachetools<6,>=4.0 in /usr/local/lib/python3.10/dist-packages (from streamlit) (5.3.1)\n",
            "Requirement already satisfied: click<9,>=7.0 in /usr/local/lib/python3.10/dist-packages (from streamlit) (8.1.7)\n",
            "Requirement already satisfied: importlib-metadata<7,>=1.4 in /usr/local/lib/python3.10/dist-packages (from streamlit) (6.8.0)\n",
            "Requirement already satisfied: numpy<2,>=1.19.3 in /usr/local/lib/python3.10/dist-packages (from streamlit) (1.23.5)\n",
            "Requirement already satisfied: packaging<24,>=16.8 in /usr/local/lib/python3.10/dist-packages (from streamlit) (23.2)\n",
            "Requirement already satisfied: pandas<3,>=1.3.0 in /usr/local/lib/python3.10/dist-packages (from streamlit) (2.1.1)\n",
            "Requirement already satisfied: pillow<11,>=7.1.0 in /usr/local/lib/python3.10/dist-packages (from streamlit) (9.4.0)\n",
            "Requirement already satisfied: protobuf<5,>=3.20 in /usr/local/lib/python3.10/dist-packages (from streamlit) (3.20.3)\n",
            "Requirement already satisfied: pyarrow>=6.0 in /usr/local/lib/python3.10/dist-packages (from streamlit) (9.0.0)\n",
            "Requirement already satisfied: python-dateutil<3,>=2.7.3 in /usr/local/lib/python3.10/dist-packages (from streamlit) (2.8.2)\n",
            "Requirement already satisfied: requests<3,>=2.27 in /usr/local/lib/python3.10/dist-packages (from streamlit) (2.31.0)\n",
            "Requirement already satisfied: rich<14,>=10.14.0 in /usr/local/lib/python3.10/dist-packages (from streamlit) (13.6.0)\n",
            "Requirement already satisfied: tenacity<9,>=8.1.0 in /usr/local/lib/python3.10/dist-packages (from streamlit) (8.2.3)\n",
            "Requirement already satisfied: toml<2,>=0.10.1 in /usr/local/lib/python3.10/dist-packages (from streamlit) (0.10.2)\n",
            "Requirement already satisfied: typing-extensions<5,>=4.3.0 in /usr/local/lib/python3.10/dist-packages (from streamlit) (4.8.0)\n",
            "Requirement already satisfied: tzlocal<6,>=1.1 in /usr/local/lib/python3.10/dist-packages (from streamlit) (5.1)\n",
            "Collecting validators<1,>=0.2 (from streamlit)\n",
            "  Downloading validators-0.22.0-py3-none-any.whl (26 kB)\n",
            "Collecting gitpython!=3.1.19,<4,>=3.0.7 (from streamlit)\n",
            "  Downloading GitPython-3.1.37-py3-none-any.whl (190 kB)\n",
            "\u001b[2K     \u001b[90m━━━━━━━━━━━━━━━━━━━━━━━━━━━━━━━━━━━━━━\u001b[0m \u001b[32m190.0/190.0 kB\u001b[0m \u001b[31m19.8 MB/s\u001b[0m eta \u001b[36m0:00:00\u001b[0m\n",
            "\u001b[?25hCollecting pydeck<1,>=0.8.0b4 (from streamlit)\n",
            "  Downloading pydeck-0.8.1b0-py2.py3-none-any.whl (4.8 MB)\n",
            "\u001b[2K     \u001b[90m━━━━━━━━━━━━━━━━━━━━━━━━━━━━━━━━━━━━━━━━\u001b[0m \u001b[32m4.8/4.8 MB\u001b[0m \u001b[31m122.1 MB/s\u001b[0m eta \u001b[36m0:00:00\u001b[0m\n",
            "\u001b[?25hRequirement already satisfied: tornado<7,>=6.0.3 in /usr/local/lib/python3.10/dist-packages (from streamlit) (6.3.2)\n",
            "Collecting watchdog>=2.1.5 (from streamlit)\n",
            "  Downloading watchdog-3.0.0-py3-none-manylinux2014_x86_64.whl (82 kB)\n",
            "\u001b[2K     \u001b[90m━━━━━━━━━━━━━━━━━━━━━━━━━━━━━━━━━━━━━━━━\u001b[0m \u001b[32m82.1/82.1 kB\u001b[0m \u001b[31m9.2 MB/s\u001b[0m eta \u001b[36m0:00:00\u001b[0m\n",
            "\u001b[?25hRequirement already satisfied: entrypoints in /usr/local/lib/python3.10/dist-packages (from altair<6,>=4.0->streamlit) (0.4)\n",
            "Requirement already satisfied: jinja2 in /usr/local/lib/python3.10/dist-packages (from altair<6,>=4.0->streamlit) (3.1.2)\n",
            "Requirement already satisfied: jsonschema>=3.0 in /usr/local/lib/python3.10/dist-packages (from altair<6,>=4.0->streamlit) (4.19.1)\n",
            "Requirement already satisfied: toolz in /usr/local/lib/python3.10/dist-packages (from altair<6,>=4.0->streamlit) (0.12.0)\n",
            "Collecting gitdb<5,>=4.0.1 (from gitpython!=3.1.19,<4,>=3.0.7->streamlit)\n",
            "  Downloading gitdb-4.0.10-py3-none-any.whl (62 kB)\n",
            "\u001b[2K     \u001b[90m━━━━━━━━━━━━━━━━━━━━━━━━━━━━━━━━━━━━━━━━\u001b[0m \u001b[32m62.7/62.7 kB\u001b[0m \u001b[31m6.3 MB/s\u001b[0m eta \u001b[36m0:00:00\u001b[0m\n",
            "\u001b[?25hRequirement already satisfied: zipp>=0.5 in /usr/local/lib/python3.10/dist-packages (from importlib-metadata<7,>=1.4->streamlit) (3.17.0)\n",
            "Requirement already satisfied: pytz>=2020.1 in /usr/local/lib/python3.10/dist-packages (from pandas<3,>=1.3.0->streamlit) (2023.3.post1)\n",
            "Requirement already satisfied: tzdata>=2022.1 in /usr/local/lib/python3.10/dist-packages (from pandas<3,>=1.3.0->streamlit) (2023.3)\n",
            "Requirement already satisfied: six>=1.5 in /usr/local/lib/python3.10/dist-packages (from python-dateutil<3,>=2.7.3->streamlit) (1.16.0)\n",
            "Requirement already satisfied: charset-normalizer<4,>=2 in /usr/local/lib/python3.10/dist-packages (from requests<3,>=2.27->streamlit) (3.3.0)\n",
            "Requirement already satisfied: idna<4,>=2.5 in /usr/local/lib/python3.10/dist-packages (from requests<3,>=2.27->streamlit) (3.4)\n",
            "Requirement already satisfied: urllib3<3,>=1.21.1 in /usr/local/lib/python3.10/dist-packages (from requests<3,>=2.27->streamlit) (2.0.6)\n",
            "Requirement already satisfied: certifi>=2017.4.17 in /usr/local/lib/python3.10/dist-packages (from requests<3,>=2.27->streamlit) (2023.7.22)\n",
            "Requirement already satisfied: markdown-it-py>=2.2.0 in /usr/local/lib/python3.10/dist-packages (from rich<14,>=10.14.0->streamlit) (3.0.0)\n",
            "Requirement already satisfied: pygments<3.0.0,>=2.13.0 in /usr/local/lib/python3.10/dist-packages (from rich<14,>=10.14.0->streamlit) (2.16.1)\n",
            "Collecting smmap<6,>=3.0.1 (from gitdb<5,>=4.0.1->gitpython!=3.1.19,<4,>=3.0.7->streamlit)\n",
            "  Downloading smmap-5.0.1-py3-none-any.whl (24 kB)\n",
            "Requirement already satisfied: MarkupSafe>=2.0 in /usr/local/lib/python3.10/dist-packages (from jinja2->altair<6,>=4.0->streamlit) (2.1.3)\n",
            "Requirement already satisfied: attrs>=22.2.0 in /usr/local/lib/python3.10/dist-packages (from jsonschema>=3.0->altair<6,>=4.0->streamlit) (23.1.0)\n",
            "Requirement already satisfied: jsonschema-specifications>=2023.03.6 in /usr/local/lib/python3.10/dist-packages (from jsonschema>=3.0->altair<6,>=4.0->streamlit) (2023.7.1)\n",
            "Requirement already satisfied: referencing>=0.28.4 in /usr/local/lib/python3.10/dist-packages (from jsonschema>=3.0->altair<6,>=4.0->streamlit) (0.30.2)\n",
            "Requirement already satisfied: rpds-py>=0.7.1 in /usr/local/lib/python3.10/dist-packages (from jsonschema>=3.0->altair<6,>=4.0->streamlit) (0.10.3)\n",
            "Requirement already satisfied: mdurl~=0.1 in /usr/local/lib/python3.10/dist-packages (from markdown-it-py>=2.2.0->rich<14,>=10.14.0->streamlit) (0.1.2)\n",
            "Installing collected packages: watchdog, validators, smmap, pydeck, gitdb, gitpython, streamlit\n",
            "Successfully installed gitdb-4.0.10 gitpython-3.1.37 pydeck-0.8.1b0 smmap-5.0.1 streamlit-1.27.2 validators-0.22.0 watchdog-3.0.0\n"
          ]
        }
      ]
    },
    {
      "cell_type": "markdown",
      "source": [
        "# Example code for Hackathon"
      ],
      "metadata": {
        "id": "7lWfvZrVrAYl"
      }
    },
    {
      "cell_type": "markdown",
      "source": [
        "You can use these codes from here for your prototype (if you want)"
      ],
      "metadata": {
        "id": "r_mCb8RbUOic"
      }
    },
    {
      "cell_type": "code",
      "source": [
        "def get_paper_via_doi(doi: str):\n",
        "  dois = connector.literals.get_all(q=doi, exact=True).content\n",
        "  if len(dois) > 0:\n",
        "    # Found the id of DOI predicate from here https://orkg.org/resource/R36109?noRedirect\n",
        "    statements = connector.statements.get_by_object_and_predicate(predicate_id=\"P26\", object_id=dois[0][\"id\"]).content\n",
        "    return statements[0][\"subject\"]\n",
        "  else:\n",
        "    return None\n",
        "\n",
        "get_paper_via_doi(\"10.1101/2020.03.03.20029983\")"
      ],
      "metadata": {
        "id": "2CDvKzhTtNBC",
        "colab": {
          "base_uri": "https://localhost:8080/"
        },
        "outputId": "20d4f62f-cc78-49b4-bf2a-c3be2c42c297"
      },
      "execution_count": 11,
      "outputs": [
        {
          "output_type": "execute_result",
          "data": {
            "text/plain": [
              "{'id': 'R36109',\n",
              " 'label': 'Transmission interval estimates suggest pre-symptomatic spread of COVID-19',\n",
              " 'classes': ['Paper', 'FeaturedPaper'],\n",
              " 'shared': 0,\n",
              " 'featured': True,\n",
              " 'unlisted': False,\n",
              " 'verified': True,\n",
              " 'extraction_method': 'UNKNOWN',\n",
              " '_class': 'resource',\n",
              " 'created_at': '2020-04-08T15:56:42.986436+02:00',\n",
              " 'created_by': '3a55ad95-645b-4c1f-b614-d2293718ee0b',\n",
              " 'observatory_id': '06144227-7efc-478c-8555-25147020f02f',\n",
              " 'organization_id': 'edc18168-c4ee-4cb8-a98a-136f748e912e',\n",
              " 'formatted_label': None}"
            ]
          },
          "metadata": {},
          "execution_count": 11
        }
      ]
    },
    {
      "cell_type": "code",
      "source": [
        "def get_contributions_of_paper(paper_id: str):\n",
        "  if connector.resources.exists(paper_id):\n",
        "    # P31 is the predicate that connects papers to contributions\n",
        "    # It can be found when exploring any paper resource in the ORKG\n",
        "    statements = connector.statements.get_by_subject_and_predicate(subject_id=paper_id, predicate_id=\"P31\").content\n",
        "    return [st[\"object\"] for st in statements]\n",
        "  else:\n",
        "    raise ValueError(\"Paper doesn't exist in the system!\")\n",
        "\n",
        "get_contributions_of_paper(\"R36109\")"
      ],
      "metadata": {
        "id": "ZduB8_HytNXq",
        "colab": {
          "base_uri": "https://localhost:8080/"
        },
        "outputId": "3a3aa049-b702-4785-bb68-ebd973c62f4d"
      },
      "execution_count": 12,
      "outputs": [
        {
          "output_type": "execute_result",
          "data": {
            "text/plain": [
              "[{'id': 'R306172',\n",
              "  'label': 'Contribution 36',\n",
              "  'classes': ['Contribution'],\n",
              "  'shared': 1,\n",
              "  'featured': False,\n",
              "  'unlisted': False,\n",
              "  'verified': False,\n",
              "  'extraction_method': 'UNKNOWN',\n",
              "  '_class': 'resource',\n",
              "  'created_at': '2023-06-21T12:04:00.092248+02:00',\n",
              "  'created_by': '00000000-0000-0000-0000-000000000000',\n",
              "  'observatory_id': '00000000-0000-0000-0000-000000000000',\n",
              "  'organization_id': '00000000-0000-0000-0000-000000000000',\n",
              "  'formatted_label': None},\n",
              " {'id': 'R308579',\n",
              "  'label': 'Contribution 110',\n",
              "  'classes': ['Contribution'],\n",
              "  'shared': 1,\n",
              "  'featured': False,\n",
              "  'unlisted': False,\n",
              "  'verified': False,\n",
              "  'extraction_method': 'UNKNOWN',\n",
              "  '_class': 'resource',\n",
              "  'created_at': '2023-08-09T12:04:27.355753+02:00',\n",
              "  'created_by': '00000000-0000-0000-0000-000000000000',\n",
              "  'observatory_id': '00000000-0000-0000-0000-000000000000',\n",
              "  'organization_id': '00000000-0000-0000-0000-000000000000',\n",
              "  'formatted_label': None},\n",
              " {'id': 'R308578',\n",
              "  'label': 'Contribution 109',\n",
              "  'classes': ['Contribution'],\n",
              "  'shared': 1,\n",
              "  'featured': False,\n",
              "  'unlisted': False,\n",
              "  'verified': False,\n",
              "  'extraction_method': 'UNKNOWN',\n",
              "  '_class': 'resource',\n",
              "  'created_at': '2023-08-09T12:04:24.068644+02:00',\n",
              "  'created_by': '00000000-0000-0000-0000-000000000000',\n",
              "  'observatory_id': '00000000-0000-0000-0000-000000000000',\n",
              "  'organization_id': '00000000-0000-0000-0000-000000000000',\n",
              "  'formatted_label': None},\n",
              " {'id': 'R308576',\n",
              "  'label': 'Contribution 108',\n",
              "  'classes': ['Contribution'],\n",
              "  'shared': 1,\n",
              "  'featured': False,\n",
              "  'unlisted': False,\n",
              "  'verified': False,\n",
              "  'extraction_method': 'UNKNOWN',\n",
              "  '_class': 'resource',\n",
              "  'created_at': '2023-08-09T08:16:29.672091+02:00',\n",
              "  'created_by': '00000000-0000-0000-0000-000000000000',\n",
              "  'observatory_id': '00000000-0000-0000-0000-000000000000',\n",
              "  'organization_id': '00000000-0000-0000-0000-000000000000',\n",
              "  'formatted_label': None},\n",
              " {'id': 'R308575',\n",
              "  'label': 'Contribution 107',\n",
              "  'classes': ['Contribution'],\n",
              "  'shared': 1,\n",
              "  'featured': False,\n",
              "  'unlisted': False,\n",
              "  'verified': False,\n",
              "  'extraction_method': 'UNKNOWN',\n",
              "  '_class': 'resource',\n",
              "  'created_at': '2023-08-09T08:16:26.781036+02:00',\n",
              "  'created_by': '00000000-0000-0000-0000-000000000000',\n",
              "  'observatory_id': '00000000-0000-0000-0000-000000000000',\n",
              "  'organization_id': '00000000-0000-0000-0000-000000000000',\n",
              "  'formatted_label': None},\n",
              " {'id': 'R308573',\n",
              "  'label': 'Contribution 106',\n",
              "  'classes': ['Contribution'],\n",
              "  'shared': 1,\n",
              "  'featured': False,\n",
              "  'unlisted': False,\n",
              "  'verified': False,\n",
              "  'extraction_method': 'UNKNOWN',\n",
              "  '_class': 'resource',\n",
              "  'created_at': '2023-08-09T08:16:20.868547+02:00',\n",
              "  'created_by': '00000000-0000-0000-0000-000000000000',\n",
              "  'observatory_id': '00000000-0000-0000-0000-000000000000',\n",
              "  'organization_id': '00000000-0000-0000-0000-000000000000',\n",
              "  'formatted_label': None},\n",
              " {'id': 'R308572',\n",
              "  'label': 'Contribution 105',\n",
              "  'classes': ['Contribution'],\n",
              "  'shared': 1,\n",
              "  'featured': False,\n",
              "  'unlisted': False,\n",
              "  'verified': False,\n",
              "  'extraction_method': 'UNKNOWN',\n",
              "  '_class': 'resource',\n",
              "  'created_at': '2023-08-09T08:16:17.755953+02:00',\n",
              "  'created_by': '00000000-0000-0000-0000-000000000000',\n",
              "  'observatory_id': '00000000-0000-0000-0000-000000000000',\n",
              "  'organization_id': '00000000-0000-0000-0000-000000000000',\n",
              "  'formatted_label': None},\n",
              " {'id': 'R308556',\n",
              "  'label': 'Contribution 104',\n",
              "  'classes': ['Contribution'],\n",
              "  'shared': 1,\n",
              "  'featured': False,\n",
              "  'unlisted': False,\n",
              "  'verified': False,\n",
              "  'extraction_method': 'UNKNOWN',\n",
              "  '_class': 'resource',\n",
              "  'created_at': '2023-08-09T07:55:23.572859+02:00',\n",
              "  'created_by': '00000000-0000-0000-0000-000000000000',\n",
              "  'observatory_id': '00000000-0000-0000-0000-000000000000',\n",
              "  'organization_id': '00000000-0000-0000-0000-000000000000',\n",
              "  'formatted_label': None},\n",
              " {'id': 'R308555',\n",
              "  'label': 'Contribution 103',\n",
              "  'classes': ['Contribution'],\n",
              "  'shared': 1,\n",
              "  'featured': False,\n",
              "  'unlisted': False,\n",
              "  'verified': False,\n",
              "  'extraction_method': 'UNKNOWN',\n",
              "  '_class': 'resource',\n",
              "  'created_at': '2023-08-09T07:55:20.652677+02:00',\n",
              "  'created_by': '00000000-0000-0000-0000-000000000000',\n",
              "  'observatory_id': '00000000-0000-0000-0000-000000000000',\n",
              "  'organization_id': '00000000-0000-0000-0000-000000000000',\n",
              "  'formatted_label': None},\n",
              " {'id': 'R308553',\n",
              "  'label': 'Contribution 102',\n",
              "  'classes': ['Contribution'],\n",
              "  'shared': 1,\n",
              "  'featured': False,\n",
              "  'unlisted': False,\n",
              "  'verified': False,\n",
              "  'extraction_method': 'UNKNOWN',\n",
              "  '_class': 'resource',\n",
              "  'created_at': '2023-08-09T07:54:04.473814+02:00',\n",
              "  'created_by': '00000000-0000-0000-0000-000000000000',\n",
              "  'observatory_id': '00000000-0000-0000-0000-000000000000',\n",
              "  'organization_id': '00000000-0000-0000-0000-000000000000',\n",
              "  'formatted_label': None},\n",
              " {'id': 'R308552',\n",
              "  'label': 'Contribution 101',\n",
              "  'classes': ['Contribution'],\n",
              "  'shared': 1,\n",
              "  'featured': False,\n",
              "  'unlisted': False,\n",
              "  'verified': False,\n",
              "  'extraction_method': 'UNKNOWN',\n",
              "  '_class': 'resource',\n",
              "  'created_at': '2023-08-09T07:54:01.408293+02:00',\n",
              "  'created_by': '00000000-0000-0000-0000-000000000000',\n",
              "  'observatory_id': '00000000-0000-0000-0000-000000000000',\n",
              "  'organization_id': '00000000-0000-0000-0000-000000000000',\n",
              "  'formatted_label': None},\n",
              " {'id': 'R308550',\n",
              "  'label': 'Contribution 100',\n",
              "  'classes': ['Contribution'],\n",
              "  'shared': 1,\n",
              "  'featured': False,\n",
              "  'unlisted': False,\n",
              "  'verified': False,\n",
              "  'extraction_method': 'UNKNOWN',\n",
              "  '_class': 'resource',\n",
              "  'created_at': '2023-08-09T07:39:32.693205+02:00',\n",
              "  'created_by': '00000000-0000-0000-0000-000000000000',\n",
              "  'observatory_id': '00000000-0000-0000-0000-000000000000',\n",
              "  'organization_id': '00000000-0000-0000-0000-000000000000',\n",
              "  'formatted_label': None},\n",
              " {'id': 'R308549',\n",
              "  'label': 'Contribution 99',\n",
              "  'classes': ['Contribution'],\n",
              "  'shared': 1,\n",
              "  'featured': False,\n",
              "  'unlisted': False,\n",
              "  'verified': False,\n",
              "  'extraction_method': 'UNKNOWN',\n",
              "  '_class': 'resource',\n",
              "  'created_at': '2023-08-09T07:39:29.607046+02:00',\n",
              "  'created_by': '00000000-0000-0000-0000-000000000000',\n",
              "  'observatory_id': '00000000-0000-0000-0000-000000000000',\n",
              "  'organization_id': '00000000-0000-0000-0000-000000000000',\n",
              "  'formatted_label': None},\n",
              " {'id': 'R308547',\n",
              "  'label': 'Contribution 98',\n",
              "  'classes': ['Contribution'],\n",
              "  'shared': 1,\n",
              "  'featured': False,\n",
              "  'unlisted': False,\n",
              "  'verified': False,\n",
              "  'extraction_method': 'UNKNOWN',\n",
              "  '_class': 'resource',\n",
              "  'created_at': '2023-08-09T07:31:05.306608+02:00',\n",
              "  'created_by': '00000000-0000-0000-0000-000000000000',\n",
              "  'observatory_id': '00000000-0000-0000-0000-000000000000',\n",
              "  'organization_id': '00000000-0000-0000-0000-000000000000',\n",
              "  'formatted_label': None},\n",
              " {'id': 'R308546',\n",
              "  'label': 'Contribution 97',\n",
              "  'classes': ['Contribution'],\n",
              "  'shared': 1,\n",
              "  'featured': False,\n",
              "  'unlisted': False,\n",
              "  'verified': False,\n",
              "  'extraction_method': 'UNKNOWN',\n",
              "  '_class': 'resource',\n",
              "  'created_at': '2023-08-09T07:31:01.879072+02:00',\n",
              "  'created_by': '00000000-0000-0000-0000-000000000000',\n",
              "  'observatory_id': '00000000-0000-0000-0000-000000000000',\n",
              "  'organization_id': '00000000-0000-0000-0000-000000000000',\n",
              "  'formatted_label': None},\n",
              " {'id': 'R308544',\n",
              "  'label': 'Contribution 96',\n",
              "  'classes': ['Contribution'],\n",
              "  'shared': 1,\n",
              "  'featured': False,\n",
              "  'unlisted': False,\n",
              "  'verified': False,\n",
              "  'extraction_method': 'UNKNOWN',\n",
              "  '_class': 'resource',\n",
              "  'created_at': '2023-08-08T18:11:24.150702+02:00',\n",
              "  'created_by': '00000000-0000-0000-0000-000000000000',\n",
              "  'observatory_id': '00000000-0000-0000-0000-000000000000',\n",
              "  'organization_id': '00000000-0000-0000-0000-000000000000',\n",
              "  'formatted_label': None},\n",
              " {'id': 'R308543',\n",
              "  'label': 'Contribution 95',\n",
              "  'classes': ['Contribution'],\n",
              "  'shared': 1,\n",
              "  'featured': False,\n",
              "  'unlisted': False,\n",
              "  'verified': False,\n",
              "  'extraction_method': 'UNKNOWN',\n",
              "  '_class': 'resource',\n",
              "  'created_at': '2023-08-08T18:11:10.329514+02:00',\n",
              "  'created_by': '00000000-0000-0000-0000-000000000000',\n",
              "  'observatory_id': '00000000-0000-0000-0000-000000000000',\n",
              "  'organization_id': '00000000-0000-0000-0000-000000000000',\n",
              "  'formatted_label': None},\n",
              " {'id': 'R308540',\n",
              "  'label': 'Contribution 94',\n",
              "  'classes': ['Contribution'],\n",
              "  'shared': 1,\n",
              "  'featured': False,\n",
              "  'unlisted': False,\n",
              "  'verified': False,\n",
              "  'extraction_method': 'UNKNOWN',\n",
              "  '_class': 'resource',\n",
              "  'created_at': '2023-08-08T17:19:32.360291+02:00',\n",
              "  'created_by': '00000000-0000-0000-0000-000000000000',\n",
              "  'observatory_id': '00000000-0000-0000-0000-000000000000',\n",
              "  'organization_id': '00000000-0000-0000-0000-000000000000',\n",
              "  'formatted_label': None},\n",
              " {'id': 'R308539',\n",
              "  'label': 'Contribution 93',\n",
              "  'classes': ['Contribution'],\n",
              "  'shared': 1,\n",
              "  'featured': False,\n",
              "  'unlisted': False,\n",
              "  'verified': False,\n",
              "  'extraction_method': 'UNKNOWN',\n",
              "  '_class': 'resource',\n",
              "  'created_at': '2023-08-08T17:19:24.970746+02:00',\n",
              "  'created_by': '00000000-0000-0000-0000-000000000000',\n",
              "  'observatory_id': '00000000-0000-0000-0000-000000000000',\n",
              "  'organization_id': '00000000-0000-0000-0000-000000000000',\n",
              "  'formatted_label': None},\n",
              " {'id': 'R308537',\n",
              "  'label': 'Contribution 92',\n",
              "  'classes': ['Contribution'],\n",
              "  'shared': 1,\n",
              "  'featured': False,\n",
              "  'unlisted': False,\n",
              "  'verified': False,\n",
              "  'extraction_method': 'UNKNOWN',\n",
              "  '_class': 'resource',\n",
              "  'created_at': '2023-08-08T10:04:42.566167+02:00',\n",
              "  'created_by': '00000000-0000-0000-0000-000000000000',\n",
              "  'observatory_id': '00000000-0000-0000-0000-000000000000',\n",
              "  'organization_id': '00000000-0000-0000-0000-000000000000',\n",
              "  'formatted_label': None}]"
            ]
          },
          "metadata": {},
          "execution_count": 12
        }
      ]
    },
    {
      "cell_type": "code",
      "source": [
        "# PREFIX orkgr: <http://orkg.org/orkg/resource/>\n",
        "# PREFIX orkgp: <http://orkg.org/orkg/predicate/>\n",
        "\n",
        "# SELECT DISTINCT ?prop1 ?label1 ?prop2 ?label2\n",
        "# WHERE{\n",
        "#   ?prop1 rdfs:label ?label1 .\n",
        "#   ?prop2 rdfs:label ?label2 .\n",
        "#   ?sub ?prop1 ?obj1 .\n",
        "#   ?sub ?prop2 ?obj2 .\n",
        "#   ?paper orkgp:P31 ?sub.\n",
        "#   FILTER(?prop1 != ?prop2 && ?prop1 != rdf:type && ?prop2 != rdf:type && ?prop1 != rdfs:label && ?prop2 != rdfs:label)\n",
        "# }"
      ],
      "metadata": {
        "id": "iDkX6WiEfSNc"
      },
      "execution_count": 13,
      "outputs": []
    },
    {
      "cell_type": "code",
      "source": [
        "# PREFIX orkgr: <http://orkg.org/orkg/resource/>\n",
        "# PREFIX orkgp: <http://orkg.org/orkg/predicate/>\n",
        "\n",
        "# SELECT ?research_problem ?approach (COUNT(?paper) as ?c)\n",
        "# WHERE{\n",
        "#   ?sub orkgp:P32 ?research_problem .\n",
        "#   ?sub orkgp:HAS_APPROACH ?approach .\n",
        "#   ?paper orkgp:P31 ?sub .\n",
        "# }\n",
        "# ORDER BY DESC(?c)"
      ],
      "metadata": {
        "id": "X6bv0UHOfWbx"
      },
      "execution_count": 14,
      "outputs": []
    },
    {
      "cell_type": "code",
      "source": [
        "# PREFIX orkgr: <http://orkg.org/orkg/resource/>\n",
        "# PREFIX orkgp: <http://orkg.org/orkg/predicate/>\n",
        "\n",
        "# SELECT ?p ?pl ?o ?ol (COUNT(?p) as ?c)\n",
        "# WHERE{\n",
        "#   ?s ?p ?o .\n",
        "#   ?p rdfs:label ?pl .\n",
        "#   ?o rdfs:label ?ol .\n",
        "#   ?paper orkgp:P31 ?s .\n",
        "# }\n",
        "# ORDER BY DESC(?c)"
      ],
      "metadata": {
        "id": "_FQXpj5jgCyn"
      },
      "execution_count": 15,
      "outputs": []
    },
    {
      "cell_type": "code",
      "source": [
        "from orkg import ORKG, Hosts\n",
        "from collections import Counter\n",
        "\n",
        "filters = []\n",
        "print('Starting to add filters')\n",
        "while True:\n",
        "\n",
        "  # Inputing a property\n",
        "  prop_label = input('Enter a property label or \"ok\" if you have enough filters: ')\n",
        "  if prop_label == 'ok':\n",
        "    break\n",
        "  response = orkg.predicates.get(q = prop_label, exact = False, size = 10)\n",
        "  if response.succeeded and response.content:\n",
        "    [print(prop) for prop in response.content]\n",
        "  else:\n",
        "    print('No properties found, enter a filter again')\n",
        "    continue\n",
        "  prop_id = input('Enter ID of a selected property: ')\n",
        "  response = orkg.predicates.by_id(id = prop_id)\n",
        "  if not response.succeeded or not response.content:\n",
        "    print('Wrong ID, enter a filter again')\n",
        "    continue\n",
        "\n",
        "  # Inputing a property value\n",
        "  obj_label = input('Enter a resource label: ')\n",
        "  response = orkg.resources.get(q = obj_label, exact = False, size = 10)\n",
        "  if response.succeeded and response.content:\n",
        "    [print(obj) for obj in response.content]\n",
        "  else:\n",
        "    print('No resources found, enter a filter again')\n",
        "    continue\n",
        "  obj_id = input('Enter ID of a selected resource: ')\n",
        "  if not orkg.resources.exists(obj_id):\n",
        "    print('Wrong ID, enter a filter again')\n",
        "    continue\n",
        "\n",
        "  filters.append((prop_id, obj_id))\n",
        "\n",
        "print('Your filters:')\n",
        "for filter in filters:\n",
        "  print(f'property: {filter[0]}, resource: {filter[1]}')\n",
        "\n",
        "# Quering contributions\n",
        "contrs = []\n",
        "for filter in filters:\n",
        "  prop = filter[0]\n",
        "  obj = filter[1]\n",
        "  response = orkg.statements.get_by_object_and_predicate(object_id = obj, predicate_id = prop)\n",
        "  if response.succeeded:\n",
        "    for contr in response.content:\n",
        "      contrs.append(contr['subject']['id'])\n",
        "\n",
        "print('Found related contributions:')\n",
        "for contr_id, count in Counter(contrs).items():\n",
        "  print(f'contribution id: {contr_id}, number of mathes: {count}')\n",
        "\n",
        "# Quering papers\n",
        "print('Getting papers by related contributions')\n",
        "while True:\n",
        "  contr_id = input('Enter ID of a selected contribution, or \"q\" to quit: ')\n",
        "  if contr_id == 'q':\n",
        "    break\n",
        "  response = connector.statements.get_by_object_and_predicate(object_id = contr_id, predicate_id = 'P31', size = 10)\n",
        "  if response.succeeded:\n",
        "    paper = response.content[0]\n",
        "    paper_id = paper['subject']['id']\n",
        "    print(f'ID of a paper with the selected contribution: {paper_id}')\n",
        "    response = connector.statements.get_by_subject_and_predicate(subject_id = paper_id, predicate_id = 'P26')\n",
        "    if response.succeeded and response.content:\n",
        "      doi = response.content[0]['object']['label']\n",
        "      print(f'DOI of the paper: {doi}')\n",
        "  else:\n",
        "    print('Wrong ID, enter ID again')\n",
        "    continue"
      ],
      "metadata": {
        "id": "N_q-mvGZLmEJ"
      },
      "execution_count": 20,
      "outputs": []
    },
    {
      "cell_type": "code",
      "source": [
        "# research problem, P32:\n",
        "#  entity extraction, R567246\n",
        "#  question answering, R567252\n",
        "#  KG Completion, R573930\n",
        "# approach, HAS_APPROACH:\n",
        "#  Knowledge Graph Embedding, R69603\n",
        "#  Deep Learning, R38156\n",
        "# method, METHOD:\n",
        "#  Bidirectional Encoder Representations from Transformers (BERT), R212628\n",
        "#  Random Forest (RF), R212792\n",
        "#  Support Vector Machine (SVM), R191529\n",
        "# keywords, P3000:\n",
        "#  Knowledge Graph, R286303\n",
        "#  Natural language processing, R278000\n",
        "#  Knowledge Representation, R109071\n",
        "#evaluation, HAS_EVALUATION\n",
        "#  Precision, R286363\n",
        "#  F1-Score, R318640"
      ],
      "metadata": {
        "id": "fc5KUCQxN_MD"
      },
      "execution_count": null,
      "outputs": []
    },
    {
      "cell_type": "markdown",
      "source": [
        "# ***To Do:*** Develop a prototype (group idea)"
      ],
      "metadata": {
        "id": "-JeU8iYttOym"
      }
    },
    {
      "cell_type": "markdown",
      "source": [
        "***Contribution:***\n",
        "\n",
        "\n",
        "1.   Gollam Rabby\n",
        "2.   Ildar Baimuratov\n",
        "3.   Yaser Jaradeh\n",
        "\n"
      ],
      "metadata": {
        "id": "6y6ub5nyVIsX"
      }
    }
  ]
}