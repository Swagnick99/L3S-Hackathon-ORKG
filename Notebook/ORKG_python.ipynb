{
  "nbformat": 4,
  "nbformat_minor": 0,
  "metadata": {
    "colab": {
      "provenance": []
    },
    "kernelspec": {
      "name": "python3",
      "display_name": "Python 3"
    },
    "language_info": {
      "name": "python"
    }
  },
  "cells": [
    {
      "cell_type": "code",
      "execution_count": null,
      "metadata": {
        "id": "sN35imDNpZqp"
      },
      "outputs": [],
      "source": []
    },
    {
      "cell_type": "code",
      "source": [],
      "metadata": {
        "id": "sFfq0mn4prY8"
      },
      "execution_count": null,
      "outputs": []
    },
    {
      "cell_type": "markdown",
      "source": [
        "### ***What is ORKG?***\n",
        "\n",
        "We build the next generation digital libraries for semantic scientific knowledge communicated in scholarly literature. We focus on the communicated content rather than the context e.g., people and institutions in which scientific knowledge is communicated, and the content is semantic i.e., machine interpretable.\n",
        "\n",
        "Scientific knowledge continues to be confined to the document, seemingly inseparable from the medium as hieroglyphs carved in stone. The global scientific knowledge base is little more than a collection of documents. It is written by humans for humans, and we have done so for a long time. This makes perfect sense, after all it is people that make up the audience, and researchers in particular.\n",
        "\n",
        "Yet, with the monumental progress in information technologies over the more recent decades, one may wonder why it is that the scientific knowledge communicated in scholarly literature remains largely inaccessible to machines. Surely it would be useful if some of that knowledge is more available to automated processing.\n",
        "\n",
        "The Open Research Knowledge Graph project is working on answers and solutions. The recently initiated TIB coordinated project is open to the community and actively engages research infrastructures and research communities in the development of technologies and use cases for open graphs about research knowledge.\n",
        "\n"
      ],
      "metadata": {
        "id": "HCciEyF3qUvF"
      }
    },
    {
      "cell_type": "markdown",
      "source": [
        "### ***Who can use orkg package?***\n",
        "\n",
        "Well, the short answer is anybody. The package is designed to be minimalistic, simple knowledge of python and JSON suffices for you to know and understand how the package works.\n",
        "\n",
        "You can use the ORKG package to add/edit/list data from any instance of the open research knowledge graph. It can be easily integrated into data science workflows, it can be used to fetch data for analysis and visualizations.\n",
        "\n",
        "The sky is your limit :)"
      ],
      "metadata": {
        "id": "KHMQRx9FqrPn"
      }
    },
    {
      "cell_type": "markdown",
      "source": [
        "# ***Installation***"
      ],
      "metadata": {
        "id": "l7Es5Ghur4V6"
      }
    },
    {
      "cell_type": "markdown",
      "source": [
        "ORKG python package is a simple API wrapper for the ORKG’s API.\n",
        "\n",
        "Start using it by typing these few words:"
      ],
      "metadata": {
        "id": "RKuTxi9mpxuG"
      }
    },
    {
      "cell_type": "code",
      "source": [
        "!pip install orkg"
      ],
      "metadata": {
        "colab": {
          "base_uri": "https://localhost:8080/"
        },
        "id": "Ke5fPuYgprJC",
        "outputId": "a08eedd2-1cff-47b7-bceb-d624ca2efe18"
      },
      "execution_count": null,
      "outputs": [
        {
          "output_type": "stream",
          "name": "stdout",
          "text": [
            "Collecting orkg\n",
            "  Downloading orkg-0.18.0-py3-none-any.whl (46 kB)\n",
            "\u001b[2K     \u001b[90m━━━━━━━━━━━━━━━━━━━━━━━━━━━━━━━━━━━━━━━━\u001b[0m \u001b[32m46.6/46.6 kB\u001b[0m \u001b[31m1.3 MB/s\u001b[0m eta \u001b[36m0:00:00\u001b[0m\n",
            "\u001b[?25hCollecting Deprecated<2.0.0,>=1.2.14 (from orkg)\n",
            "  Downloading Deprecated-1.2.14-py2.py3-none-any.whl (9.6 kB)\n",
            "Collecting Faker<20.0.0,>=19.1.0 (from orkg)\n",
            "  Downloading Faker-19.6.2-py3-none-any.whl (1.7 MB)\n",
            "\u001b[2K     \u001b[90m━━━━━━━━━━━━━━━━━━━━━━━━━━━━━━━━━━━━━━━━\u001b[0m \u001b[32m1.7/1.7 MB\u001b[0m \u001b[31m10.4 MB/s\u001b[0m eta \u001b[36m0:00:00\u001b[0m\n",
            "\u001b[?25hCollecting Inflector<4.0.0,>=3.1.0 (from orkg)\n",
            "  Downloading Inflector-3.1.0-py3-none-any.whl (12 kB)\n",
            "Collecting cardinality<0.2.0,>=0.1.1 (from orkg)\n",
            "  Downloading cardinality-0.1.1.tar.gz (2.3 kB)\n",
            "  Preparing metadata (setup.py) ... \u001b[?25l\u001b[?25hdone\n",
            "Collecting hammock<0.3.0,>=0.2.4 (from orkg)\n",
            "  Downloading hammock-0.2.4.tar.gz (4.8 kB)\n",
            "  Preparing metadata (setup.py) ... \u001b[?25l\u001b[?25hdone\n",
            "Requirement already satisfied: networkx<4.0,>=3.1 in /usr/local/lib/python3.10/dist-packages (from orkg) (3.1)\n",
            "Collecting pandas<3.0.0,>=2.0.1 (from orkg)\n",
            "  Downloading pandas-2.1.1-cp310-cp310-manylinux_2_17_x86_64.manylinux2014_x86_64.whl (12.3 MB)\n",
            "\u001b[2K     \u001b[90m━━━━━━━━━━━━━━━━━━━━━━━━━━━━━━━━━━━━━━━━\u001b[0m \u001b[32m12.3/12.3 MB\u001b[0m \u001b[31m34.6 MB/s\u001b[0m eta \u001b[36m0:00:00\u001b[0m\n",
            "\u001b[?25hCollecting pydantic<3.0.0,>=2.0.3 (from orkg)\n",
            "  Downloading pydantic-2.4.2-py3-none-any.whl (395 kB)\n",
            "\u001b[2K     \u001b[90m━━━━━━━━━━━━━━━━━━━━━━━━━━━━━━━━━━━━━━\u001b[0m \u001b[32m395.8/395.8 kB\u001b[0m \u001b[31m34.2 MB/s\u001b[0m eta \u001b[36m0:00:00\u001b[0m\n",
            "\u001b[?25hRequirement already satisfied: requests<3.0.0,>=2.31.0 in /usr/local/lib/python3.10/dist-packages (from orkg) (2.31.0)\n",
            "Requirement already satisfied: tqdm<5.0.0,>=4.65.0 in /usr/local/lib/python3.10/dist-packages (from orkg) (4.66.1)\n",
            "Collecting undecorated<0.4.0,>=0.3.0 (from orkg)\n",
            "  Downloading undecorated-0.3.0-py3-none-any.whl (4.8 kB)\n",
            "Requirement already satisfied: wrapt<2,>=1.10 in /usr/local/lib/python3.10/dist-packages (from Deprecated<2.0.0,>=1.2.14->orkg) (1.15.0)\n",
            "Requirement already satisfied: python-dateutil>=2.4 in /usr/local/lib/python3.10/dist-packages (from Faker<20.0.0,>=19.1.0->orkg) (2.8.2)\n",
            "Requirement already satisfied: numpy>=1.22.4 in /usr/local/lib/python3.10/dist-packages (from pandas<3.0.0,>=2.0.1->orkg) (1.23.5)\n",
            "Requirement already satisfied: pytz>=2020.1 in /usr/local/lib/python3.10/dist-packages (from pandas<3.0.0,>=2.0.1->orkg) (2023.3.post1)\n",
            "Collecting tzdata>=2022.1 (from pandas<3.0.0,>=2.0.1->orkg)\n",
            "  Downloading tzdata-2023.3-py2.py3-none-any.whl (341 kB)\n",
            "\u001b[2K     \u001b[90m━━━━━━━━━━━━━━━━━━━━━━━━━━━━━━━━━━━━━━\u001b[0m \u001b[32m341.8/341.8 kB\u001b[0m \u001b[31m32.9 MB/s\u001b[0m eta \u001b[36m0:00:00\u001b[0m\n",
            "\u001b[?25hCollecting annotated-types>=0.4.0 (from pydantic<3.0.0,>=2.0.3->orkg)\n",
            "  Downloading annotated_types-0.6.0-py3-none-any.whl (12 kB)\n",
            "Collecting pydantic-core==2.10.1 (from pydantic<3.0.0,>=2.0.3->orkg)\n",
            "  Downloading pydantic_core-2.10.1-cp310-cp310-manylinux_2_17_x86_64.manylinux2014_x86_64.whl (2.0 MB)\n",
            "\u001b[2K     \u001b[90m━━━━━━━━━━━━━━━━━━━━━━━━━━━━━━━━━━━━━━━━\u001b[0m \u001b[32m2.0/2.0 MB\u001b[0m \u001b[31m73.6 MB/s\u001b[0m eta \u001b[36m0:00:00\u001b[0m\n",
            "\u001b[?25hCollecting typing-extensions>=4.6.1 (from pydantic<3.0.0,>=2.0.3->orkg)\n",
            "  Downloading typing_extensions-4.8.0-py3-none-any.whl (31 kB)\n",
            "Requirement already satisfied: charset-normalizer<4,>=2 in /usr/local/lib/python3.10/dist-packages (from requests<3.0.0,>=2.31.0->orkg) (3.3.0)\n",
            "Requirement already satisfied: idna<4,>=2.5 in /usr/local/lib/python3.10/dist-packages (from requests<3.0.0,>=2.31.0->orkg) (3.4)\n",
            "Requirement already satisfied: urllib3<3,>=1.21.1 in /usr/local/lib/python3.10/dist-packages (from requests<3.0.0,>=2.31.0->orkg) (2.0.6)\n",
            "Requirement already satisfied: certifi>=2017.4.17 in /usr/local/lib/python3.10/dist-packages (from requests<3.0.0,>=2.31.0->orkg) (2023.7.22)\n",
            "Requirement already satisfied: six>=1.5 in /usr/local/lib/python3.10/dist-packages (from python-dateutil>=2.4->Faker<20.0.0,>=19.1.0->orkg) (1.16.0)\n",
            "Building wheels for collected packages: cardinality, hammock\n",
            "  Building wheel for cardinality (setup.py) ... \u001b[?25l\u001b[?25hdone\n",
            "  Created wheel for cardinality: filename=cardinality-0.1.1-py3-none-any.whl size=2587 sha256=36510da50b00f94ea3dab4e9b14ac745ea4dd168298c3fc64a64b72d16de9072\n",
            "  Stored in directory: /root/.cache/pip/wheels/b8/19/d1/2665c004b583a7d1880fa59055a3e462d6e35841a01b57010b\n",
            "  Building wheel for hammock (setup.py) ... \u001b[?25l\u001b[?25hdone\n",
            "  Created wheel for hammock: filename=hammock-0.2.4-py3-none-any.whl size=2406 sha256=0823a069710c3e50d3e6bb5b780de5c414f791dbe2b772e421154ec5b1581a78\n",
            "  Stored in directory: /root/.cache/pip/wheels/f3/55/5b/e1e1e4366a23623af753c68c926db14ea6e58c0f0386511cfa\n",
            "Successfully built cardinality hammock\n",
            "Installing collected packages: undecorated, Inflector, cardinality, tzdata, typing-extensions, Deprecated, annotated-types, pydantic-core, pandas, hammock, Faker, pydantic, orkg\n",
            "  Attempting uninstall: typing-extensions\n",
            "    Found existing installation: typing_extensions 4.5.0\n",
            "    Uninstalling typing_extensions-4.5.0:\n",
            "      Successfully uninstalled typing_extensions-4.5.0\n",
            "  Attempting uninstall: pandas\n",
            "    Found existing installation: pandas 1.5.3\n",
            "    Uninstalling pandas-1.5.3:\n",
            "      Successfully uninstalled pandas-1.5.3\n",
            "  Attempting uninstall: pydantic\n",
            "    Found existing installation: pydantic 1.10.13\n",
            "    Uninstalling pydantic-1.10.13:\n",
            "      Successfully uninstalled pydantic-1.10.13\n",
            "\u001b[31mERROR: pip's dependency resolver does not currently take into account all the packages that are installed. This behaviour is the source of the following dependency conflicts.\n",
            "google-colab 1.0.0 requires pandas==1.5.3, but you have pandas 2.1.1 which is incompatible.\n",
            "tensorflow 2.13.0 requires typing-extensions<4.6.0,>=3.6.6, but you have typing-extensions 4.8.0 which is incompatible.\u001b[0m\u001b[31m\n",
            "\u001b[0mSuccessfully installed Deprecated-1.2.14 Faker-19.6.2 Inflector-3.1.0 annotated-types-0.6.0 cardinality-0.1.1 hammock-0.2.4 orkg-0.18.0 pandas-2.1.1 pydantic-2.4.2 pydantic-core-2.10.1 typing-extensions-4.8.0 tzdata-2023.3 undecorated-0.3.0\n"
          ]
        }
      ]
    },
    {
      "cell_type": "markdown",
      "source": [
        "# ***Usage***"
      ],
      "metadata": {
        "id": "8RVmIkK0sCqt"
      }
    },
    {
      "cell_type": "markdown",
      "source": [
        "In order to use the package in your python code, you just need to import it and instantiate an instance of the base class to use it."
      ],
      "metadata": {
        "id": "Si9KGqWAbHyZ"
      }
    },
    {
      "cell_type": "code",
      "source": [
        "from orkg import ORKG # import base class from package\n",
        "\n",
        "orkg = ORKG(host=\"<host-address-is-here>\", creds=('email-address', 'password')) # create the connector to the ORKG"
      ],
      "metadata": {
        "id": "OX-nnTGQqLwT",
        "colab": {
          "base_uri": "https://localhost:8080/",
          "height": 361
        },
        "outputId": "f7a006ce-79ca-49bc-80c8-8c62e587e76c"
      },
      "execution_count": null,
      "outputs": [
        {
          "output_type": "error",
          "ename": "ValueError",
          "evalue": "ignored",
          "traceback": [
            "\u001b[0;31m---------------------------------------------------------------------------\u001b[0m",
            "\u001b[0;31mValueError\u001b[0m                                Traceback (most recent call last)",
            "\u001b[0;32m<ipython-input-3-b88b1c4a486f>\u001b[0m in \u001b[0;36m<cell line: 3>\u001b[0;34m()\u001b[0m\n\u001b[1;32m      1\u001b[0m \u001b[0;32mfrom\u001b[0m \u001b[0morkg\u001b[0m \u001b[0;32mimport\u001b[0m \u001b[0mORKG\u001b[0m \u001b[0;31m# import base class from package\u001b[0m\u001b[0;34m\u001b[0m\u001b[0;34m\u001b[0m\u001b[0m\n\u001b[1;32m      2\u001b[0m \u001b[0;34m\u001b[0m\u001b[0m\n\u001b[0;32m----> 3\u001b[0;31m \u001b[0morkg\u001b[0m \u001b[0;34m=\u001b[0m \u001b[0mORKG\u001b[0m\u001b[0;34m(\u001b[0m\u001b[0mhost\u001b[0m\u001b[0;34m=\u001b[0m\u001b[0;34m\"<host-address-is-here>\"\u001b[0m\u001b[0;34m,\u001b[0m \u001b[0mcreds\u001b[0m\u001b[0;34m=\u001b[0m\u001b[0;34m(\u001b[0m\u001b[0;34m'email-address'\u001b[0m\u001b[0;34m,\u001b[0m \u001b[0;34m'password'\u001b[0m\u001b[0;34m)\u001b[0m\u001b[0;34m)\u001b[0m \u001b[0;31m# create the connector to the ORKG\u001b[0m\u001b[0;34m\u001b[0m\u001b[0;34m\u001b[0m\u001b[0m\n\u001b[0m",
            "\u001b[0;32m/usr/local/lib/python3.10/dist-packages/orkg/client/backend.py\u001b[0m in \u001b[0;36m__init__\u001b[0;34m(self, host, simcomp_host, creds, **kwargs)\u001b[0m\n\u001b[1;32m     42\u001b[0m         \u001b[0;34m**\u001b[0m\u001b[0mkwargs\u001b[0m\u001b[0;34m,\u001b[0m\u001b[0;34m\u001b[0m\u001b[0;34m\u001b[0m\u001b[0m\n\u001b[1;32m     43\u001b[0m     ):\n\u001b[0;32m---> 44\u001b[0;31m         \u001b[0mself\u001b[0m\u001b[0;34m.\u001b[0m\u001b[0m_set_host\u001b[0m\u001b[0;34m(\u001b[0m\u001b[0mhost\u001b[0m\u001b[0;34m)\u001b[0m\u001b[0;34m\u001b[0m\u001b[0;34m\u001b[0m\u001b[0m\n\u001b[0m\u001b[1;32m     45\u001b[0m         \u001b[0mself\u001b[0m\u001b[0;34m.\u001b[0m\u001b[0m_set_simcomp_host\u001b[0m\u001b[0;34m(\u001b[0m\u001b[0msimcomp_host\u001b[0m\u001b[0;34m)\u001b[0m\u001b[0;34m\u001b[0m\u001b[0;34m\u001b[0m\u001b[0m\n\u001b[1;32m     46\u001b[0m         \u001b[0mself\u001b[0m\u001b[0;34m.\u001b[0m\u001b[0mcore\u001b[0m \u001b[0;34m=\u001b[0m \u001b[0mhammock\u001b[0m\u001b[0;34m.\u001b[0m\u001b[0mHammock\u001b[0m\u001b[0;34m(\u001b[0m\u001b[0mself\u001b[0m\u001b[0;34m.\u001b[0m\u001b[0mhost\u001b[0m\u001b[0;34m)\u001b[0m\u001b[0;34m\u001b[0m\u001b[0;34m\u001b[0m\u001b[0m\n",
            "\u001b[0;32m/usr/local/lib/python3.10/dist-packages/orkg/client/backend.py\u001b[0m in \u001b[0;36m_set_host\u001b[0;34m(self, host)\u001b[0m\n\u001b[1;32m     85\u001b[0m                 \u001b[0;32mraise\u001b[0m \u001b[0mValueError\u001b[0m\u001b[0;34m(\u001b[0m\u001b[0;34m\"host must begin with http or https\"\u001b[0m\u001b[0;34m)\u001b[0m\u001b[0;34m\u001b[0m\u001b[0;34m\u001b[0m\u001b[0m\n\u001b[1;32m     86\u001b[0m             \u001b[0;32melse\u001b[0m\u001b[0;34m:\u001b[0m\u001b[0;34m\u001b[0m\u001b[0;34m\u001b[0m\u001b[0m\n\u001b[0;32m---> 87\u001b[0;31m                 raise ValueError(\n\u001b[0m\u001b[1;32m     88\u001b[0m                     \u001b[0;34m\"the host name was not recognized \"\u001b[0m\u001b[0;34m\u001b[0m\u001b[0;34m\u001b[0m\u001b[0m\n\u001b[1;32m     89\u001b[0m                     \u001b[0;34m\"-- use Hosts.PRODUCTION, Hosts.SANDBOX, or Hosts.INCUBATING without quotes\"\u001b[0m\u001b[0;34m\u001b[0m\u001b[0;34m\u001b[0m\u001b[0m\n",
            "\u001b[0;31mValueError\u001b[0m: the host name was not recognized -- use Hosts.PRODUCTION, Hosts.SANDBOX, or Hosts.INCUBATING without quotes"
          ]
        }
      ]
    },
    {
      "cell_type": "code",
      "source": [
        "The package can be used to connect to any instance of the ORKG local or remote. The host parameter may be specified with an address or environment name (see below).\n",
        "Optionally you can provide the credentials to authenticate your requests. If host is not specified, it defaults to sandbox."
      ],
      "metadata": {
        "id": "od5jm8u1bc_q"
      },
      "execution_count": null,
      "outputs": []
    },
    {
      "cell_type": "markdown",
      "source": [
        " # ***Host***"
      ],
      "metadata": {
        "id": "yAbwKU9qbj02"
      }
    },
    {
      "cell_type": "markdown",
      "source": [
        "Three different host environments are available:\n",
        "\n",
        "\n",
        "1.   ***Production***: The most stable version of the ORKG. Use this host to access the current version of the graph and add persistent data."
      ],
      "metadata": {
        "id": "JlX_nkV1byp1"
      }
    },
    {
      "cell_type": "code",
      "source": [
        "# from orkg import ORKG, Hosts # import base class from package\n",
        "\n",
        "# orkg = ORKG(host=Hosts.PRODUCTION) # create the connector to the ORKG\n"
      ],
      "metadata": {
        "id": "SSQsrLMGbPC2"
      },
      "execution_count": null,
      "outputs": []
    },
    {
      "cell_type": "markdown",
      "source": [
        "\n",
        "2. ***Sandbox:*** The ORKG playground! It has the same features that exist on production at any given time. Use this host to experiment with the ORKG or Python package features without adding data to the main graph. Data added to sandbox is periodically deleted, and this version of the ORKG may not contain all of the data found in the production graph.\n",
        "\n"
      ],
      "metadata": {
        "id": "EgZZLsoLcEAS"
      }
    },
    {
      "cell_type": "code",
      "source": [
        "from orkg import ORKG, Hosts # import base class from package\n",
        "\n",
        "orkg = ORKG(host=Hosts.SANDBOX) # create the connector to the ORKG"
      ],
      "metadata": {
        "id": "AKp1gQUFcRcc"
      },
      "execution_count": null,
      "outputs": []
    },
    {
      "cell_type": "markdown",
      "source": [
        "\n",
        "3. ***Incubating:*** The ORKG version with the newest features being tested. Since features are still under development, this version may break or not function as expected. Data added to incubating is periodically deleted, and this version of the ORKG may not contain all of the data found in the production graph.\n",
        "\n"
      ],
      "metadata": {
        "id": "Ng4CPrO9cY_i"
      }
    },
    {
      "cell_type": "code",
      "source": [
        "from orkg import ORKG, Hosts # import base class from package\n",
        "\n",
        "orkg = ORKG(host=Hosts.INCUBATING) # create the connector to the ORKG"
      ],
      "metadata": {
        "id": "HihLXqT0cX-f"
      },
      "execution_count": null,
      "outputs": []
    },
    {
      "cell_type": "markdown",
      "source": [
        "Three main classes should be known when using the ORKG python package.\n",
        "\n",
        "\n",
        "\n",
        "1. ORKG class (main class to connect to an ORKG instance).\n",
        "2. OrkgResponse (output encapsulation for the ORKG API).\n",
        "3. OrkgUnpaginatedResponse (output encapsulation for pageable endpoints of the ORKG API)\n"
      ],
      "metadata": {
        "id": "YsLqyZ0YskXH"
      }
    },
    {
      "cell_type": "code",
      "source": [
        "connector.resources # entry point to manipulate ORKG resources\n",
        "connector.predicates # entry point to manipulate ORKG predicates\n",
        "connector.classes # entry point to manipulate ORKG classes\n",
        "connector.literals # entry point to manipulate ORKG literals\n",
        "connector.stats # entry point to get ORKG statistics\n",
        "connector.statements # entry point to manipulate ORKG statements\n",
        "connector.papers # entry point to manipulate ORKG papers\n",
        "connector.comparisons # entry point to manipulate ORKG comparisons\n",
        "connector.objects # entry point to manipulate ORKG objects\n",
        "connector.templates # entry point to manipulate ORKG templates (Alpha)\n",
        "connector.harvesters # entry point to run harvesting functionalities on top of ORKG data (Alpha)"
      ],
      "metadata": {
        "id": "3N-T3YQYskid"
      },
      "execution_count": null,
      "outputs": []
    },
    {
      "cell_type": "markdown",
      "source": [
        "For the other main component which represent the output of all requests in the package."
      ],
      "metadata": {
        "id": "x1gTBlk1s5sq"
      }
    },
    {
      "cell_type": "code",
      "source": [
        "connector.ping() # this call will check the availability of the ORKG and returns True if the request is successful; otherwise, returns False."
      ],
      "metadata": {
        "id": "rwl0GZyQs2Uu"
      },
      "execution_count": null,
      "outputs": []
    },
    {
      "cell_type": "code",
      "source": [
        "connector.resources.get()  # this call will fetch a collection of resources from the ORKG"
      ],
      "metadata": {
        "id": "mB49alc3s-eu"
      },
      "execution_count": null,
      "outputs": []
    },
    {
      "cell_type": "markdown",
      "source": [
        "Example apps: Streamlit\n",
        "\n",
        "Welcome to Streamlit 👋\n",
        "A faster way to build and share data apps.\n"
      ],
      "metadata": {
        "id": "KWIOZsqFtsgj"
      }
    },
    {
      "cell_type": "code",
      "source": [
        "!pip install streamlit"
      ],
      "metadata": {
        "colab": {
          "base_uri": "https://localhost:8080/"
        },
        "id": "LuJAJPXotqdu",
        "outputId": "66d9ff00-8473-48e6-ef99-5d876a4275e8"
      },
      "execution_count": null,
      "outputs": [
        {
          "output_type": "stream",
          "name": "stdout",
          "text": [
            "Collecting streamlit\n",
            "  Downloading streamlit-1.27.2-py2.py3-none-any.whl (7.6 MB)\n",
            "\u001b[2K     \u001b[90m━━━━━━━━━━━━━━━━━━━━━━━━━━━━━━━━━━━━━━━━\u001b[0m \u001b[32m7.6/7.6 MB\u001b[0m \u001b[31m54.4 MB/s\u001b[0m eta \u001b[36m0:00:00\u001b[0m\n",
            "\u001b[?25hRequirement already satisfied: altair<6,>=4.0 in /usr/local/lib/python3.10/dist-packages (from streamlit) (4.2.2)\n",
            "Requirement already satisfied: blinker<2,>=1.0.0 in /usr/lib/python3/dist-packages (from streamlit) (1.4)\n",
            "Requirement already satisfied: cachetools<6,>=4.0 in /usr/local/lib/python3.10/dist-packages (from streamlit) (5.3.1)\n",
            "Requirement already satisfied: click<9,>=7.0 in /usr/local/lib/python3.10/dist-packages (from streamlit) (8.1.7)\n",
            "Requirement already satisfied: importlib-metadata<7,>=1.4 in /usr/local/lib/python3.10/dist-packages (from streamlit) (6.8.0)\n",
            "Requirement already satisfied: numpy<2,>=1.19.3 in /usr/local/lib/python3.10/dist-packages (from streamlit) (1.23.5)\n",
            "Requirement already satisfied: packaging<24,>=16.8 in /usr/local/lib/python3.10/dist-packages (from streamlit) (23.1)\n",
            "Requirement already satisfied: pandas<3,>=1.3.0 in /usr/local/lib/python3.10/dist-packages (from streamlit) (1.5.3)\n",
            "Requirement already satisfied: pillow<11,>=7.1.0 in /usr/local/lib/python3.10/dist-packages (from streamlit) (9.4.0)\n",
            "Requirement already satisfied: protobuf<5,>=3.20 in /usr/local/lib/python3.10/dist-packages (from streamlit) (3.20.3)\n",
            "Requirement already satisfied: pyarrow>=6.0 in /usr/local/lib/python3.10/dist-packages (from streamlit) (9.0.0)\n",
            "Requirement already satisfied: python-dateutil<3,>=2.7.3 in /usr/local/lib/python3.10/dist-packages (from streamlit) (2.8.2)\n",
            "Requirement already satisfied: requests<3,>=2.27 in /usr/local/lib/python3.10/dist-packages (from streamlit) (2.31.0)\n",
            "Requirement already satisfied: rich<14,>=10.14.0 in /usr/local/lib/python3.10/dist-packages (from streamlit) (13.5.3)\n",
            "Requirement already satisfied: tenacity<9,>=8.1.0 in /usr/local/lib/python3.10/dist-packages (from streamlit) (8.2.3)\n",
            "Requirement already satisfied: toml<2,>=0.10.1 in /usr/local/lib/python3.10/dist-packages (from streamlit) (0.10.2)\n",
            "Requirement already satisfied: typing-extensions<5,>=4.3.0 in /usr/local/lib/python3.10/dist-packages (from streamlit) (4.5.0)\n",
            "Requirement already satisfied: tzlocal<6,>=1.1 in /usr/local/lib/python3.10/dist-packages (from streamlit) (5.0.1)\n",
            "Collecting validators<1,>=0.2 (from streamlit)\n",
            "  Downloading validators-0.22.0-py3-none-any.whl (26 kB)\n",
            "Collecting gitpython!=3.1.19,<4,>=3.0.7 (from streamlit)\n",
            "  Downloading GitPython-3.1.37-py3-none-any.whl (190 kB)\n",
            "\u001b[2K     \u001b[90m━━━━━━━━━━━━━━━━━━━━━━━━━━━━━━━━━━━━━━\u001b[0m \u001b[32m190.0/190.0 kB\u001b[0m \u001b[31m22.2 MB/s\u001b[0m eta \u001b[36m0:00:00\u001b[0m\n",
            "\u001b[?25hCollecting pydeck<1,>=0.8.0b4 (from streamlit)\n",
            "  Downloading pydeck-0.8.1b0-py2.py3-none-any.whl (4.8 MB)\n",
            "\u001b[2K     \u001b[90m━━━━━━━━━━━━━━━━━━━━━━━━━━━━━━━━━━━━━━━━\u001b[0m \u001b[32m4.8/4.8 MB\u001b[0m \u001b[31m110.4 MB/s\u001b[0m eta \u001b[36m0:00:00\u001b[0m\n",
            "\u001b[?25hRequirement already satisfied: tornado<7,>=6.0.3 in /usr/local/lib/python3.10/dist-packages (from streamlit) (6.3.2)\n",
            "Collecting watchdog>=2.1.5 (from streamlit)\n",
            "  Downloading watchdog-3.0.0-py3-none-manylinux2014_x86_64.whl (82 kB)\n",
            "\u001b[2K     \u001b[90m━━━━━━━━━━━━━━━━━━━━━━━━━━━━━━━━━━━━━━━━\u001b[0m \u001b[32m82.1/82.1 kB\u001b[0m \u001b[31m10.5 MB/s\u001b[0m eta \u001b[36m0:00:00\u001b[0m\n",
            "\u001b[?25hRequirement already satisfied: entrypoints in /usr/local/lib/python3.10/dist-packages (from altair<6,>=4.0->streamlit) (0.4)\n",
            "Requirement already satisfied: jinja2 in /usr/local/lib/python3.10/dist-packages (from altair<6,>=4.0->streamlit) (3.1.2)\n",
            "Requirement already satisfied: jsonschema>=3.0 in /usr/local/lib/python3.10/dist-packages (from altair<6,>=4.0->streamlit) (4.19.1)\n",
            "Requirement already satisfied: toolz in /usr/local/lib/python3.10/dist-packages (from altair<6,>=4.0->streamlit) (0.12.0)\n",
            "Collecting gitdb<5,>=4.0.1 (from gitpython!=3.1.19,<4,>=3.0.7->streamlit)\n",
            "  Downloading gitdb-4.0.10-py3-none-any.whl (62 kB)\n",
            "\u001b[2K     \u001b[90m━━━━━━━━━━━━━━━━━━━━━━━━━━━━━━━━━━━━━━━━\u001b[0m \u001b[32m62.7/62.7 kB\u001b[0m \u001b[31m7.7 MB/s\u001b[0m eta \u001b[36m0:00:00\u001b[0m\n",
            "\u001b[?25hRequirement already satisfied: zipp>=0.5 in /usr/local/lib/python3.10/dist-packages (from importlib-metadata<7,>=1.4->streamlit) (3.17.0)\n",
            "Requirement already satisfied: pytz>=2020.1 in /usr/local/lib/python3.10/dist-packages (from pandas<3,>=1.3.0->streamlit) (2023.3.post1)\n",
            "Requirement already satisfied: six>=1.5 in /usr/local/lib/python3.10/dist-packages (from python-dateutil<3,>=2.7.3->streamlit) (1.16.0)\n",
            "Requirement already satisfied: charset-normalizer<4,>=2 in /usr/local/lib/python3.10/dist-packages (from requests<3,>=2.27->streamlit) (3.2.0)\n",
            "Requirement already satisfied: idna<4,>=2.5 in /usr/local/lib/python3.10/dist-packages (from requests<3,>=2.27->streamlit) (3.4)\n",
            "Requirement already satisfied: urllib3<3,>=1.21.1 in /usr/local/lib/python3.10/dist-packages (from requests<3,>=2.27->streamlit) (2.0.5)\n",
            "Requirement already satisfied: certifi>=2017.4.17 in /usr/local/lib/python3.10/dist-packages (from requests<3,>=2.27->streamlit) (2023.7.22)\n",
            "Requirement already satisfied: markdown-it-py>=2.2.0 in /usr/local/lib/python3.10/dist-packages (from rich<14,>=10.14.0->streamlit) (3.0.0)\n",
            "Requirement already satisfied: pygments<3.0.0,>=2.13.0 in /usr/local/lib/python3.10/dist-packages (from rich<14,>=10.14.0->streamlit) (2.16.1)\n",
            "Collecting smmap<6,>=3.0.1 (from gitdb<5,>=4.0.1->gitpython!=3.1.19,<4,>=3.0.7->streamlit)\n",
            "  Downloading smmap-5.0.1-py3-none-any.whl (24 kB)\n",
            "Requirement already satisfied: MarkupSafe>=2.0 in /usr/local/lib/python3.10/dist-packages (from jinja2->altair<6,>=4.0->streamlit) (2.1.3)\n",
            "Requirement already satisfied: attrs>=22.2.0 in /usr/local/lib/python3.10/dist-packages (from jsonschema>=3.0->altair<6,>=4.0->streamlit) (23.1.0)\n",
            "Requirement already satisfied: jsonschema-specifications>=2023.03.6 in /usr/local/lib/python3.10/dist-packages (from jsonschema>=3.0->altair<6,>=4.0->streamlit) (2023.7.1)\n",
            "Requirement already satisfied: referencing>=0.28.4 in /usr/local/lib/python3.10/dist-packages (from jsonschema>=3.0->altair<6,>=4.0->streamlit) (0.30.2)\n",
            "Requirement already satisfied: rpds-py>=0.7.1 in /usr/local/lib/python3.10/dist-packages (from jsonschema>=3.0->altair<6,>=4.0->streamlit) (0.10.3)\n",
            "Requirement already satisfied: mdurl~=0.1 in /usr/local/lib/python3.10/dist-packages (from markdown-it-py>=2.2.0->rich<14,>=10.14.0->streamlit) (0.1.2)\n",
            "Installing collected packages: watchdog, validators, smmap, pydeck, gitdb, gitpython, streamlit\n",
            "Successfully installed gitdb-4.0.10 gitpython-3.1.37 pydeck-0.8.1b0 smmap-5.0.1 streamlit-1.27.2 validators-0.22.0 watchdog-3.0.0\n"
          ]
        }
      ]
    },
    {
      "cell_type": "code",
      "source": [
        "! streamlit hello"
      ],
      "metadata": {
        "colab": {
          "base_uri": "https://localhost:8080/"
        },
        "id": "VMYrvFWu1k8I",
        "outputId": "41c4723a-5905-4650-f22b-12716efae96d"
      },
      "execution_count": null,
      "outputs": [
        {
          "output_type": "stream",
          "name": "stdout",
          "text": [
            "\n",
            "Collecting usage statistics. To deactivate, set browser.gatherUsageStats to False.\n",
            "\u001b[0m\n",
            "\u001b[0m\n",
            "\u001b[34m\u001b[1m  Welcome to Streamlit. Check out our demo in your browser.\u001b[0m\n",
            "\u001b[0m\n",
            "\u001b[34m  Network URL: \u001b[0m\u001b[1mhttp://172.28.0.12:8501\u001b[0m\n",
            "\u001b[34m  External URL: \u001b[0m\u001b[1mhttp://34.150.230.180:8501\u001b[0m\n",
            "\u001b[0m\n",
            "  Ready to create your own Python apps super quickly?\u001b[0m\n",
            "  Head over to \u001b[0m\u001b[1mhttps://docs.streamlit.io\u001b[0m\n",
            "\u001b[0m\n",
            "  May you create awesome apps!\u001b[0m\n",
            "\u001b[0m\n",
            "\u001b[0m\n",
            "\u001b[34m  Stopping...\u001b[0m\n",
            "\u001b[34m  Stopping...\u001b[0m\n"
          ]
        }
      ]
    },
    {
      "cell_type": "markdown",
      "source": [
        "Add example function from Yaser"
      ],
      "metadata": {
        "id": "945Y-iMUtKDN"
      }
    },
    {
      "cell_type": "code",
      "source": [
        "def get_paper_via_doi(doi: str):\n",
        "  dois = orkg.literals.get_all(q=doi, exact=True).content\n",
        "  if len(dois) > 0:\n",
        "    # Found the id of DOI predicate from here https://orkg.org/resource/R36109?noRedirect\n",
        "    statements = orkg.statements.get_by_object_and_predicate(predicate_id=\"P26\", object_id=dois[0][\"id\"]).content\n",
        "    return statements[0][\"subject\"]\n",
        "  else:\n",
        "    return None\n",
        "\n",
        "get_paper_via_doi(\"10.1101/2020.03.03.20029983\")"
      ],
      "metadata": {
        "id": "2CDvKzhTtNBC",
        "colab": {
          "base_uri": "https://localhost:8080/"
        },
        "outputId": "1a87c1ec-e08c-4bf2-dbba-d02bd828fc8d"
      },
      "execution_count": null,
      "outputs": [
        {
          "output_type": "execute_result",
          "data": {
            "text/plain": [
              "{'id': 'R36109',\n",
              " 'label': 'Transmission interval estimates suggest pre-symptomatic spread of COVID-19',\n",
              " 'classes': ['Paper', 'FeaturedPaper'],\n",
              " 'shared': 0,\n",
              " 'featured': True,\n",
              " 'unlisted': False,\n",
              " 'verified': True,\n",
              " 'extraction_method': 'UNKNOWN',\n",
              " '_class': 'resource',\n",
              " 'created_at': '2020-04-08T15:56:42.986436+02:00',\n",
              " 'created_by': '3a55ad95-645b-4c1f-b614-d2293718ee0b',\n",
              " 'observatory_id': '06144227-7efc-478c-8555-25147020f02f',\n",
              " 'organization_id': 'edc18168-c4ee-4cb8-a98a-136f748e912e',\n",
              " 'formatted_label': None}"
            ]
          },
          "metadata": {},
          "execution_count": 13
        }
      ]
    },
    {
      "cell_type": "code",
      "source": [
        "def get_contributions_of_paper(paper_id: str):\n",
        "  if orkg.resources.exists(paper_id):\n",
        "    # P31 is the predicate that connects papers to contributions\n",
        "    # It can be found when exploring any paper resource in the ORKG\n",
        "    statements = orkg.statements.get_by_subject_and_predicate(subject_id=paper_id, predicate_id=\"P31\").content\n",
        "    return [st[\"object\"] for st in statements]\n",
        "  else:\n",
        "    raise ValueError(\"Paper doesn't exist in the system!\")\n",
        "\n",
        "get_contributions_of_paper(\"R36109\")"
      ],
      "metadata": {
        "id": "ZduB8_HytNXq",
        "colab": {
          "base_uri": "https://localhost:8080/"
        },
        "outputId": "26ab3790-827a-4a8f-ee41-334161b4f91f"
      },
      "execution_count": null,
      "outputs": [
        {
          "output_type": "execute_result",
          "data": {
            "text/plain": [
              "[{'id': 'R306172',\n",
              "  'label': 'Contribution 36',\n",
              "  'classes': ['Contribution'],\n",
              "  'shared': 1,\n",
              "  'featured': False,\n",
              "  'unlisted': False,\n",
              "  'verified': False,\n",
              "  'extraction_method': 'UNKNOWN',\n",
              "  '_class': 'resource',\n",
              "  'created_at': '2023-06-21T12:04:00.092248+02:00',\n",
              "  'created_by': '00000000-0000-0000-0000-000000000000',\n",
              "  'observatory_id': '00000000-0000-0000-0000-000000000000',\n",
              "  'organization_id': '00000000-0000-0000-0000-000000000000',\n",
              "  'formatted_label': None},\n",
              " {'id': 'R308579',\n",
              "  'label': 'Contribution 110',\n",
              "  'classes': ['Contribution'],\n",
              "  'shared': 1,\n",
              "  'featured': False,\n",
              "  'unlisted': False,\n",
              "  'verified': False,\n",
              "  'extraction_method': 'UNKNOWN',\n",
              "  '_class': 'resource',\n",
              "  'created_at': '2023-08-09T12:04:27.355753+02:00',\n",
              "  'created_by': '00000000-0000-0000-0000-000000000000',\n",
              "  'observatory_id': '00000000-0000-0000-0000-000000000000',\n",
              "  'organization_id': '00000000-0000-0000-0000-000000000000',\n",
              "  'formatted_label': None},\n",
              " {'id': 'R308578',\n",
              "  'label': 'Contribution 109',\n",
              "  'classes': ['Contribution'],\n",
              "  'shared': 1,\n",
              "  'featured': False,\n",
              "  'unlisted': False,\n",
              "  'verified': False,\n",
              "  'extraction_method': 'UNKNOWN',\n",
              "  '_class': 'resource',\n",
              "  'created_at': '2023-08-09T12:04:24.068644+02:00',\n",
              "  'created_by': '00000000-0000-0000-0000-000000000000',\n",
              "  'observatory_id': '00000000-0000-0000-0000-000000000000',\n",
              "  'organization_id': '00000000-0000-0000-0000-000000000000',\n",
              "  'formatted_label': None},\n",
              " {'id': 'R308576',\n",
              "  'label': 'Contribution 108',\n",
              "  'classes': ['Contribution'],\n",
              "  'shared': 1,\n",
              "  'featured': False,\n",
              "  'unlisted': False,\n",
              "  'verified': False,\n",
              "  'extraction_method': 'UNKNOWN',\n",
              "  '_class': 'resource',\n",
              "  'created_at': '2023-08-09T08:16:29.672091+02:00',\n",
              "  'created_by': '00000000-0000-0000-0000-000000000000',\n",
              "  'observatory_id': '00000000-0000-0000-0000-000000000000',\n",
              "  'organization_id': '00000000-0000-0000-0000-000000000000',\n",
              "  'formatted_label': None},\n",
              " {'id': 'R308575',\n",
              "  'label': 'Contribution 107',\n",
              "  'classes': ['Contribution'],\n",
              "  'shared': 1,\n",
              "  'featured': False,\n",
              "  'unlisted': False,\n",
              "  'verified': False,\n",
              "  'extraction_method': 'UNKNOWN',\n",
              "  '_class': 'resource',\n",
              "  'created_at': '2023-08-09T08:16:26.781036+02:00',\n",
              "  'created_by': '00000000-0000-0000-0000-000000000000',\n",
              "  'observatory_id': '00000000-0000-0000-0000-000000000000',\n",
              "  'organization_id': '00000000-0000-0000-0000-000000000000',\n",
              "  'formatted_label': None},\n",
              " {'id': 'R308573',\n",
              "  'label': 'Contribution 106',\n",
              "  'classes': ['Contribution'],\n",
              "  'shared': 1,\n",
              "  'featured': False,\n",
              "  'unlisted': False,\n",
              "  'verified': False,\n",
              "  'extraction_method': 'UNKNOWN',\n",
              "  '_class': 'resource',\n",
              "  'created_at': '2023-08-09T08:16:20.868547+02:00',\n",
              "  'created_by': '00000000-0000-0000-0000-000000000000',\n",
              "  'observatory_id': '00000000-0000-0000-0000-000000000000',\n",
              "  'organization_id': '00000000-0000-0000-0000-000000000000',\n",
              "  'formatted_label': None},\n",
              " {'id': 'R308572',\n",
              "  'label': 'Contribution 105',\n",
              "  'classes': ['Contribution'],\n",
              "  'shared': 1,\n",
              "  'featured': False,\n",
              "  'unlisted': False,\n",
              "  'verified': False,\n",
              "  'extraction_method': 'UNKNOWN',\n",
              "  '_class': 'resource',\n",
              "  'created_at': '2023-08-09T08:16:17.755953+02:00',\n",
              "  'created_by': '00000000-0000-0000-0000-000000000000',\n",
              "  'observatory_id': '00000000-0000-0000-0000-000000000000',\n",
              "  'organization_id': '00000000-0000-0000-0000-000000000000',\n",
              "  'formatted_label': None},\n",
              " {'id': 'R308556',\n",
              "  'label': 'Contribution 104',\n",
              "  'classes': ['Contribution'],\n",
              "  'shared': 1,\n",
              "  'featured': False,\n",
              "  'unlisted': False,\n",
              "  'verified': False,\n",
              "  'extraction_method': 'UNKNOWN',\n",
              "  '_class': 'resource',\n",
              "  'created_at': '2023-08-09T07:55:23.572859+02:00',\n",
              "  'created_by': '00000000-0000-0000-0000-000000000000',\n",
              "  'observatory_id': '00000000-0000-0000-0000-000000000000',\n",
              "  'organization_id': '00000000-0000-0000-0000-000000000000',\n",
              "  'formatted_label': None},\n",
              " {'id': 'R308555',\n",
              "  'label': 'Contribution 103',\n",
              "  'classes': ['Contribution'],\n",
              "  'shared': 1,\n",
              "  'featured': False,\n",
              "  'unlisted': False,\n",
              "  'verified': False,\n",
              "  'extraction_method': 'UNKNOWN',\n",
              "  '_class': 'resource',\n",
              "  'created_at': '2023-08-09T07:55:20.652677+02:00',\n",
              "  'created_by': '00000000-0000-0000-0000-000000000000',\n",
              "  'observatory_id': '00000000-0000-0000-0000-000000000000',\n",
              "  'organization_id': '00000000-0000-0000-0000-000000000000',\n",
              "  'formatted_label': None},\n",
              " {'id': 'R308553',\n",
              "  'label': 'Contribution 102',\n",
              "  'classes': ['Contribution'],\n",
              "  'shared': 1,\n",
              "  'featured': False,\n",
              "  'unlisted': False,\n",
              "  'verified': False,\n",
              "  'extraction_method': 'UNKNOWN',\n",
              "  '_class': 'resource',\n",
              "  'created_at': '2023-08-09T07:54:04.473814+02:00',\n",
              "  'created_by': '00000000-0000-0000-0000-000000000000',\n",
              "  'observatory_id': '00000000-0000-0000-0000-000000000000',\n",
              "  'organization_id': '00000000-0000-0000-0000-000000000000',\n",
              "  'formatted_label': None},\n",
              " {'id': 'R308552',\n",
              "  'label': 'Contribution 101',\n",
              "  'classes': ['Contribution'],\n",
              "  'shared': 1,\n",
              "  'featured': False,\n",
              "  'unlisted': False,\n",
              "  'verified': False,\n",
              "  'extraction_method': 'UNKNOWN',\n",
              "  '_class': 'resource',\n",
              "  'created_at': '2023-08-09T07:54:01.408293+02:00',\n",
              "  'created_by': '00000000-0000-0000-0000-000000000000',\n",
              "  'observatory_id': '00000000-0000-0000-0000-000000000000',\n",
              "  'organization_id': '00000000-0000-0000-0000-000000000000',\n",
              "  'formatted_label': None},\n",
              " {'id': 'R308550',\n",
              "  'label': 'Contribution 100',\n",
              "  'classes': ['Contribution'],\n",
              "  'shared': 1,\n",
              "  'featured': False,\n",
              "  'unlisted': False,\n",
              "  'verified': False,\n",
              "  'extraction_method': 'UNKNOWN',\n",
              "  '_class': 'resource',\n",
              "  'created_at': '2023-08-09T07:39:32.693205+02:00',\n",
              "  'created_by': '00000000-0000-0000-0000-000000000000',\n",
              "  'observatory_id': '00000000-0000-0000-0000-000000000000',\n",
              "  'organization_id': '00000000-0000-0000-0000-000000000000',\n",
              "  'formatted_label': None},\n",
              " {'id': 'R308549',\n",
              "  'label': 'Contribution 99',\n",
              "  'classes': ['Contribution'],\n",
              "  'shared': 1,\n",
              "  'featured': False,\n",
              "  'unlisted': False,\n",
              "  'verified': False,\n",
              "  'extraction_method': 'UNKNOWN',\n",
              "  '_class': 'resource',\n",
              "  'created_at': '2023-08-09T07:39:29.607046+02:00',\n",
              "  'created_by': '00000000-0000-0000-0000-000000000000',\n",
              "  'observatory_id': '00000000-0000-0000-0000-000000000000',\n",
              "  'organization_id': '00000000-0000-0000-0000-000000000000',\n",
              "  'formatted_label': None},\n",
              " {'id': 'R308547',\n",
              "  'label': 'Contribution 98',\n",
              "  'classes': ['Contribution'],\n",
              "  'shared': 1,\n",
              "  'featured': False,\n",
              "  'unlisted': False,\n",
              "  'verified': False,\n",
              "  'extraction_method': 'UNKNOWN',\n",
              "  '_class': 'resource',\n",
              "  'created_at': '2023-08-09T07:31:05.306608+02:00',\n",
              "  'created_by': '00000000-0000-0000-0000-000000000000',\n",
              "  'observatory_id': '00000000-0000-0000-0000-000000000000',\n",
              "  'organization_id': '00000000-0000-0000-0000-000000000000',\n",
              "  'formatted_label': None},\n",
              " {'id': 'R308546',\n",
              "  'label': 'Contribution 97',\n",
              "  'classes': ['Contribution'],\n",
              "  'shared': 1,\n",
              "  'featured': False,\n",
              "  'unlisted': False,\n",
              "  'verified': False,\n",
              "  'extraction_method': 'UNKNOWN',\n",
              "  '_class': 'resource',\n",
              "  'created_at': '2023-08-09T07:31:01.879072+02:00',\n",
              "  'created_by': '00000000-0000-0000-0000-000000000000',\n",
              "  'observatory_id': '00000000-0000-0000-0000-000000000000',\n",
              "  'organization_id': '00000000-0000-0000-0000-000000000000',\n",
              "  'formatted_label': None},\n",
              " {'id': 'R308544',\n",
              "  'label': 'Contribution 96',\n",
              "  'classes': ['Contribution'],\n",
              "  'shared': 1,\n",
              "  'featured': False,\n",
              "  'unlisted': False,\n",
              "  'verified': False,\n",
              "  'extraction_method': 'UNKNOWN',\n",
              "  '_class': 'resource',\n",
              "  'created_at': '2023-08-08T18:11:24.150702+02:00',\n",
              "  'created_by': '00000000-0000-0000-0000-000000000000',\n",
              "  'observatory_id': '00000000-0000-0000-0000-000000000000',\n",
              "  'organization_id': '00000000-0000-0000-0000-000000000000',\n",
              "  'formatted_label': None},\n",
              " {'id': 'R308543',\n",
              "  'label': 'Contribution 95',\n",
              "  'classes': ['Contribution'],\n",
              "  'shared': 1,\n",
              "  'featured': False,\n",
              "  'unlisted': False,\n",
              "  'verified': False,\n",
              "  'extraction_method': 'UNKNOWN',\n",
              "  '_class': 'resource',\n",
              "  'created_at': '2023-08-08T18:11:10.329514+02:00',\n",
              "  'created_by': '00000000-0000-0000-0000-000000000000',\n",
              "  'observatory_id': '00000000-0000-0000-0000-000000000000',\n",
              "  'organization_id': '00000000-0000-0000-0000-000000000000',\n",
              "  'formatted_label': None},\n",
              " {'id': 'R308540',\n",
              "  'label': 'Contribution 94',\n",
              "  'classes': ['Contribution'],\n",
              "  'shared': 1,\n",
              "  'featured': False,\n",
              "  'unlisted': False,\n",
              "  'verified': False,\n",
              "  'extraction_method': 'UNKNOWN',\n",
              "  '_class': 'resource',\n",
              "  'created_at': '2023-08-08T17:19:32.360291+02:00',\n",
              "  'created_by': '00000000-0000-0000-0000-000000000000',\n",
              "  'observatory_id': '00000000-0000-0000-0000-000000000000',\n",
              "  'organization_id': '00000000-0000-0000-0000-000000000000',\n",
              "  'formatted_label': None},\n",
              " {'id': 'R308539',\n",
              "  'label': 'Contribution 93',\n",
              "  'classes': ['Contribution'],\n",
              "  'shared': 1,\n",
              "  'featured': False,\n",
              "  'unlisted': False,\n",
              "  'verified': False,\n",
              "  'extraction_method': 'UNKNOWN',\n",
              "  '_class': 'resource',\n",
              "  'created_at': '2023-08-08T17:19:24.970746+02:00',\n",
              "  'created_by': '00000000-0000-0000-0000-000000000000',\n",
              "  'observatory_id': '00000000-0000-0000-0000-000000000000',\n",
              "  'organization_id': '00000000-0000-0000-0000-000000000000',\n",
              "  'formatted_label': None},\n",
              " {'id': 'R308537',\n",
              "  'label': 'Contribution 92',\n",
              "  'classes': ['Contribution'],\n",
              "  'shared': 1,\n",
              "  'featured': False,\n",
              "  'unlisted': False,\n",
              "  'verified': False,\n",
              "  'extraction_method': 'UNKNOWN',\n",
              "  '_class': 'resource',\n",
              "  'created_at': '2023-08-08T10:04:42.566167+02:00',\n",
              "  'created_by': '00000000-0000-0000-0000-000000000000',\n",
              "  'observatory_id': '00000000-0000-0000-0000-000000000000',\n",
              "  'organization_id': '00000000-0000-0000-0000-000000000000',\n",
              "  'formatted_label': None}]"
            ]
          },
          "metadata": {},
          "execution_count": 15
        }
      ]
    },
    {
      "cell_type": "markdown",
      "source": [
        "# Ildar: examples of a prototype"
      ],
      "metadata": {
        "id": "dM7bURT7gfpc"
      }
    },
    {
      "cell_type": "code",
      "source": [
        "from collections import Counter\n",
        "\n",
        "orkg = ORKG(host=Hosts.PRODUCTION)\n",
        "\n",
        "#cont_id = 'R8186'\n",
        "#if orkg.resources.exists(cont_id):\n",
        "  #response = orkg.contributions.similar(cont_id=cont_id)\n",
        "  #response = orkg.statements.get_by_subject(subject_id=cont_id)\n",
        "  #statements = response.content\n",
        "  #[print(x) for x in statements]\n",
        "#else:\n",
        "#  print(\"Contribution doesn't exist in the system!\")\n",
        "\n",
        "# label = ''\n",
        "# while label != 'q':\n",
        "#   label = input('Enter a predicate label')\n",
        "#   pred = orkg.predicates.get(q='label', exact=False, size=1).content\n",
        "#   print(pred)\n",
        "\n",
        "def get_filter(prop_id, obj_label):\n",
        "  objs = orkg.resources.get(q=obj_label, exact = False, size = 2).content\n",
        "  if objs:\n",
        "    for obj in objs:\n",
        "      print(obj['id'])\n",
        "      return (prop_id, obj['id'])\n",
        "  else:\n",
        "    print('No objects found')\n",
        "\n",
        "\n",
        "filters = []\n",
        "\n",
        "#filters.append(get_filter('P32', 'KG Completion')) # Research problem\n",
        "#filters.append(get_filter('P2005', 'Imagenet')) # Dataset\n",
        "#filters.append(get_filter('P34', 'Accuracy')) # Evaluation\n",
        "#filters.append(get_filter('P105047', 'Self-supervised')) # Evaluation\n",
        "filters.append(('P32', 'R573979')) # research problem text classification\n",
        "filters.append(('P105047', 'R573991')) # has training type self-supervised\n",
        "\n",
        "conts = []\n",
        "for filter in filters:\n",
        "  pred = filter[0]\n",
        "  obj = filter[1]\n",
        "  response = orkg.statements.get_by_object_and_predicate(object_id=obj, predicate_id=pred).content\n",
        "  if response:\n",
        "    for cont in response:\n",
        "      conts.append(cont['subject']['id'])\n",
        "\n",
        "print(Counter(conts))"
      ],
      "metadata": {
        "colab": {
          "base_uri": "https://localhost:8080/"
        },
        "id": "zgYuu2llgdqm",
        "outputId": "cd20b692-a6b3-4aaa-bef5-dc4a8cb98483"
      },
      "execution_count": null,
      "outputs": [
        {
          "output_type": "stream",
          "name": "stdout",
          "text": [
            "Counter({'R575731': 1, 'R575728': 1, 'R575663': 1, 'R575660': 1, 'R575612': 1, 'R575564': 1, 'R575508': 1, 'R575491': 1, 'R575462': 1, 'R575414': 1, 'R575220': 1, 'R575187': 1, 'R575082': 1, 'R575034': 1, 'R574956': 1, 'R574941': 1, 'R574739': 1, 'R574691': 1, 'R574571': 1, 'R574445': 1, 'R573124': 1, 'R573855': 1, 'R573853': 1, 'R573851': 1, 'R573849': 1, 'R573843': 1, 'R573839': 1, 'R573837': 1, 'R573831': 1, 'R573829': 1, 'R573825': 1, 'R573823': 1, 'R573819': 1, 'R573817': 1, 'R573809': 1, 'R573807': 1, 'R573800': 1, 'R573798': 1, 'R573796': 1, 'R573794': 1})\n"
          ]
        }
      ]
    },
    {
      "cell_type": "markdown",
      "source": [
        "***To Do:*** Develop a prototype with the group idea"
      ],
      "metadata": {
        "id": "-JeU8iYttOym"
      }
    },
    {
      "cell_type": "markdown",
      "source": [
        "give general disc for all the hacerthon idea.\n",
        "\n",
        "1. there will be 2 different task : probably use extention in crome or copy\n",
        "\n",
        "1. data collcetion (manu + auto) --> read a paper, or own research paper ; add to the contribution (); (use chatgpt after 1 hour, please do not use LLM at that time) , make a example csv exp 2. make 2 different presentaion for data collection and coding.\n",
        "\n",
        "2. coding\n",
        " 1. Search research paper beased on propaerty (you can use anything)\n",
        " 2. QA on ORKG data  --> also need to make 2/3 example (backup) (you can use anything), UI : streamlet\n",
        "\n",
        "\n",
        " 3. small Presentation:\n",
        "1. demo and feedback (possitive and negative from the user or developer point of view)\n",
        "\n",
        "To do:\n",
        "1. develop a templet for LLM\n",
        "2. select 15/20 paper for LLM not in the ORKG\n"
      ],
      "metadata": {
        "id": "oye98BslMG_y"
      }
    }
  ]
}